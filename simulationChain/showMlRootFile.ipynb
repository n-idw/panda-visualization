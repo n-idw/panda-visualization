{
 "cells": [
  {
   "cell_type": "markdown",
   "metadata": {},
   "source": [
    "# Print the Branch Contents of ROOT files created for the Machine Learning Pipeline\n",
    "---\n",
    "\n",
    "This notebook uses `uproot` to load a single event from a given root file and displays the branches with their corresponding python and c++ data types and the values for a given number of lines.\n",
    "\n",
    "The structure of the root file, meaning its trees and branches, are hard coded. If the branch or tree structure gets edited, so must this code be changed."
   ]
  },
  {
   "cell_type": "markdown",
   "metadata": {},
   "source": [
    "## Imports"
   ]
  },
  {
   "cell_type": "code",
   "execution_count": 1,
   "metadata": {},
   "outputs": [],
   "source": [
    "import uproot as up"
   ]
  },
  {
   "cell_type": "markdown",
   "metadata": {},
   "source": [
    "## Load the ROOT File and Display its Branches"
   ]
  },
  {
   "cell_type": "code",
   "execution_count": 2,
   "metadata": {},
   "outputs": [
    {
     "name": "stdout",
     "output_type": "stream",
     "text": [
      "name                 | typename                 | interpretation                \n",
      "---------------------+--------------------------+-------------------------------\n",
      "hit_id               | RVec<int32_t>            | AsJagged(AsDtype('>i4'), he...\n",
      "x                    | RVec<double>             | AsJagged(AsDtype('>f8'), he...\n",
      "y                    | RVec<double>             | AsJagged(AsDtype('>f8'), he...\n",
      "z                    | RVec<double>             | AsJagged(AsDtype('>f8'), he...\n",
      "volume_id            | RVec<int32_t>            | AsJagged(AsDtype('>i4'), he...\n",
      "layer_id             | RVec<int32_t>            | AsJagged(AsDtype('>i4'), he...\n",
      "module_id            | RVec<int32_t>            | AsJagged(AsDtype('>i4'), he...\n",
      "None\n",
      "name                 | typename                 | interpretation                \n",
      "---------------------+--------------------------+-------------------------------\n",
      "hit_id               | RVec<int32_t>            | AsJagged(AsDtype('>i4'), he...\n",
      "dep_charge           | RVec<double>             | AsJagged(AsDtype('>f8'), he...\n",
      "energy_loss          | RVec<double>             | AsJagged(AsDtype('>f8'), he...\n",
      "volume_id            | RVec<int32_t>            | AsJagged(AsDtype('>i4'), he...\n",
      "layer_id             | RVec<int32_t>            | AsJagged(AsDtype('>i4'), he...\n",
      "module_id            | RVec<int32_t>            | AsJagged(AsDtype('>i4'), he...\n",
      "sector_id            | RVec<int32_t>            | AsJagged(AsDtype('>i4'), he...\n",
      "isochrone            | RVec<double>             | AsJagged(AsDtype('>f8'), he...\n",
      "skewed               | RVec<int32_t>            | AsJagged(AsDtype('>i4'), he...\n",
      "None\n",
      "name                 | typename                 | interpretation                \n",
      "---------------------+--------------------------+-------------------------------\n",
      "particle_id          | RVec<int32_t>            | AsJagged(AsDtype('>i4'), he...\n",
      "vx                   | RVec<double>             | AsJagged(AsDtype('>f8'), he...\n",
      "vy                   | RVec<double>             | AsJagged(AsDtype('>f8'), he...\n",
      "vz                   | RVec<double>             | AsJagged(AsDtype('>f8'), he...\n",
      "px                   | RVec<double>             | AsJagged(AsDtype('>f8'), he...\n",
      "py                   | RVec<double>             | AsJagged(AsDtype('>f8'), he...\n",
      "pz                   | RVec<double>             | AsJagged(AsDtype('>f8'), he...\n",
      "nhits                | RVec<int32_t>            | AsJagged(AsDtype('>i4'), he...\n",
      "pdgcode              | RVec<int32_t>            | AsJagged(AsDtype('>i4'), he...\n",
      "start_time           | RVec<double>             | AsJagged(AsDtype('>f8'), he...\n",
      "primary              | RVec<int32_t>            | AsJagged(AsDtype('>i4'), he...\n",
      "None\n",
      "name                 | typename                 | interpretation                \n",
      "---------------------+--------------------------+-------------------------------\n",
      "hit_id               | RVec<int32_t>            | AsJagged(AsDtype('>i4'), he...\n",
      "tx                   | RVec<double>             | AsJagged(AsDtype('>f8'), he...\n",
      "ty                   | RVec<double>             | AsJagged(AsDtype('>f8'), he...\n",
      "tz                   | RVec<double>             | AsJagged(AsDtype('>f8'), he...\n",
      "tT                   | RVec<double>             | AsJagged(AsDtype('>f8'), he...\n",
      "tpx                  | RVec<double>             | AsJagged(AsDtype('>f8'), he...\n",
      "tpy                  | RVec<double>             | AsJagged(AsDtype('>f8'), he...\n",
      "tpz                  | RVec<double>             | AsJagged(AsDtype('>f8'), he...\n",
      "particle_id          | RVec<int32_t>            | AsJagged(AsDtype('>i4'), he...\n",
      "None\n"
     ]
    }
   ],
   "source": [
    "# Path to the ROOT file\n",
    "mlDataFilePath = \"/home/nikin105/mlProject/data/machineLearning/mum5mup5/root/mlData.root\" # <-- Change this to the path of the ROOT file\n",
    "\n",
    "hits = up.open(f\"{mlDataFilePath}:hits\")\n",
    "cells = up.open(f\"{mlDataFilePath}:cells\")\n",
    "particles = up.open(f\"{mlDataFilePath}:particles\")\n",
    "truth = up.open(f\"{mlDataFilePath}:truth\")\n",
    "\n",
    "print(hits.show())\n",
    "print(cells.show())\n",
    "print(particles.show())\n",
    "print(truth.show())"
   ]
  },
  {
   "cell_type": "code",
   "execution_count": 3,
   "metadata": {},
   "outputs": [],
   "source": [
    "# Event that should be displayed\n",
    "event = 0 # <-- Change this to the event number that should be displayed\n",
    "\n",
    "hitBranchNames = [\"hit_id\", \"x\", \"y\", \"z\", \"volume_id\", \"layer_id\", \"module_id\"]\n",
    "hitParams = hits.arrays(hitBranchNames, library=\"np\", entry_start=event, entry_stop=event+1)\n",
    "\n",
    "cellBranchNames = [\"hit_id\", \"dep_charge\", \"energy_loss\", \"volume_id\", \"layer_id\", \"module_id\", \"sector_id\", \"isochrone\", \"skewed\"]\n",
    "cellParams = cells.arrays(cellBranchNames, library=\"np\", entry_start=event, entry_stop=event+1)\n",
    "\n",
    "truthBranchNames = [\"hit_id\", \"tx\", \"ty\", \"tz\", \"tpx\", \"tpy\", \"tpz\", \"particle_id\"]\n",
    "truthParams = truth.arrays(truthBranchNames, library=\"np\", entry_start=event, entry_stop=event+1)\n",
    "\n",
    "particlesBranchNames = [\"particle_id\", \"vx\", \"vy\", \"vz\", \"px\", \"py\", \"pz\", \"nhits\", \"pdgcode\", \"start_time\", \"primary\"]\n",
    "particlesParams = particles.arrays(particlesBranchNames, library=\"np\", entry_start=event, entry_stop=event+1)"
   ]
  },
  {
   "cell_type": "code",
   "execution_count": 4,
   "metadata": {},
   "outputs": [
    {
     "name": "stdout",
     "output_type": "stream",
     "text": [
      "hit_id,x,y,z,volume_id,layer_id,module_id\n",
      "0 13.120285034179688 -11.614999771118164 35.0 9 0 65\n",
      "1 13.994970321655273 -12.119999885559082 35.0 9 1 173\n",
      "2 13.994970321655273 -13.130000114440918 35.0 9 2 286\n",
      "3 14.869656562805176 -13.635000228881836 35.0 9 3 406\n",
      "4 15.744341850280762 -14.140000343322754 35.0 9 4 532\n",
      "5 16.619028091430664 -14.645000457763672 35.0 9 5 664\n",
      "6 16.619028091430664 -15.654999732971191 35.0 9 6 801\n",
      "7 17.49371337890625 -16.15999984741211 35.0 9 7 945\n",
      "8 15.891955375671387 -18.251022338867188 35.0 9 8 1109\n",
      "9 16.767242431640625 -18.75567626953125 35.0 9 9 1307\n",
      "10 22.252803802490234 -17.036579132080078 26.463886260986328 9 10 1517\n",
      "\n",
      "hit_id dep_charge energy_loss volume_id layer_id module_id sector_id isochrone skewed\n",
      "0 4589899.714998919 4.589899714998919 9 0 65 3 0.04168410398405612 0\n",
      "1 22502325.37145041 22.502325371450407 9 1 173 3 0.2944226189791269 0\n",
      "2 3136079.9820130877 3.136079982013088 9 2 286 3 0.46971404277654916 0\n",
      "3 7687911.673469984 7.6879116734699835 9 3 406 3 0.26000045273585637 0\n",
      "4 24619572.56298981 24.61957256298981 9 4 532 3 0.03428435761896731 0\n",
      "5 10792745.318243064 10.792745318243064 9 5 664 3 0.26932390982493537 0\n",
      "6 9900436.615799649 9.900436615799649 9 6 801 3 0.4681494535075096 0\n",
      "7 27139791.78933419 27.139791789334186 9 7 945 3 0.20268817420838414 0\n",
      "8 7999721.137856555 7.999721137856555 9 8 1109 3 0.15684756181941742 1\n",
      "9 4720422.71700288 4.720422717002879 9 9 1307 3 0.12451237592672938 1\n",
      "10 6419419.232517188 6.419419232517188 9 10 1517 3 0.1796961334844211 -1\n",
      "\n",
      "hit_id tx ty tz tpx tpy tpz particle_id\n",
      "0 13.091827392578125 -11.645254135131836 -12.737142562866211 0.8055023550987244 -0.7577328085899353 -0.8020220398902893 9\n",
      "1 13.80650520324707 -12.319242477416992 -13.449557304382324 0.80344557762146 -0.7599118947982788 -0.8019900321960449 9\n",
      "2 14.311017990112305 -12.797131538391113 -13.953523635864258 0.8019726872444153 -0.7614095211029053 -0.8019391894340515 9\n",
      "3 15.022595405578613 -13.47473430633545 -14.665904998779297 0.8000509142875671 -0.7636014223098755 -0.801727831363678 9\n",
      "4 15.731610298156738 -14.15326976776123 -15.377388954162598 0.7979070544242859 -0.7656731009483337 -0.801856279373169 9\n",
      "5 16.437938690185547 -14.8327054977417 -16.0880069732666 0.7958685755729675 -0.7678061723709106 -0.8018097877502441 9\n",
      "6 16.94291114807129 -15.320596694946289 -16.597110748291016 0.7943529486656189 -0.7693408727645874 -0.8017932772636414 9\n",
      "7 17.64588165283203 -16.0037784576416 -17.307851791381836 0.7920480370521545 -0.7714657783508301 -0.8016895055770874 9\n",
      "8 18.413497924804688 -16.753803253173828 -18.08620834350586 0.7895277142524719 -0.773714005947113 -0.8019744753837585 9\n",
      "9 19.110397338867188 -17.438669204711914 -18.795089721679688 0.7874469757080078 -0.775743305683136 -0.802017331123352 9\n",
      "10 20.047080993652344 -18.364696502685547 -19.7508487701416 0.784674346446991 -0.7784525752067566 -0.8020738363265991 9\n",
      "\n",
      "particle_id vx vy vz px py pz nhits pdgcode start_time primary\n",
      "0 0.0 0.0 0.0 -0.7199804782867432 -1.2016907930374146 0.061345215886831284 20285 13 0.0 1\n",
      "1 0.0 0.0 0.0 0.30821382999420166 1.0364092588424683 -0.3222600519657135 20253 13 0.0 1\n",
      "2 0.0 0.0 0.0 1.17457914352417 0.6640358567237854 -0.6230090260505676 20029 13 0.0 1\n",
      "3 0.0 0.0 0.0 -0.06929328292608261 -0.25168219208717346 0.49474936723709106 266032 13 0.0 1\n",
      "4 0.0 0.0 0.0 -0.03033563308417797 0.5431711673736572 -0.6047888398170471 20273 13 0.0 1\n",
      "5 0.0 0.0 0.0 0.775273859500885 1.1820532083511353 0.46454736590385437 20285 -13 0.0 1\n",
      "6 0.0 0.0 0.0 0.009695126675069332 -0.568196177482605 0.5675296783447266 20265 -13 0.0 1\n",
      "7 0.0 0.0 0.0 -0.7923606634140015 -0.595085620880127 -0.39916154742240906 3901 -13 0.0 1\n",
      "8 0.0 0.0 0.0 0.7406806349754333 -1.2142505645751953 0.04214121028780937 20269 -13 0.0 1\n",
      "9 0.0 0.0 0.0 0.8459962010383606 -0.7157405018806458 -0.8057908415794373 20280 -13 0.0 1\n",
      "10 50.531368255615234 -52.54120635986328 -53.39051818847656 0.0015544391935691237 -0.0006838100962340832 -0.00013212072371970862 512 11 3.026669502258301 0\n"
     ]
    }
   ],
   "source": [
    "# Number of lines that should be printed\n",
    "lines = 11 # <-- Change this to the number of lines that should be printed\n",
    "\n",
    "print(\"hit_id,x,y,z,volume_id,layer_id,module_id\")\n",
    "for i in range(lines):\n",
    "    print(hitParams[\"hit_id\"][0][i],hitParams[\"x\"][0][i],hitParams[\"y\"][0][i],hitParams[\"z\"][0][i],hitParams[\"volume_id\"][0][i],hitParams[\"layer_id\"][0][i],hitParams[\"module_id\"][0][i])\n",
    "    \n",
    "print(\"\\nhit_id\", \"dep_charge\", \"energy_loss\", \"volume_id\", \"layer_id\", \"module_id\", \"sector_id\", \"isochrone\", \"skewed\")\n",
    "for i in range(lines):\n",
    "    print(cellParams[\"hit_id\"][0][i],cellParams[\"dep_charge\"][0][i],cellParams[\"energy_loss\"][0][i],cellParams[\"volume_id\"][0][i],cellParams[\"layer_id\"][0][i],cellParams[\"module_id\"][0][i], cellParams[\"sector_id\"][0][i], cellParams[\"isochrone\"][0][i], cellParams[\"skewed\"][0][i])\n",
    "    \n",
    "print(\"\\nhit_id\", \"tx\", \"ty\", \"tz\", \"tpx\", \"tpy\", \"tpz\", \"particle_id\")\n",
    "for i in range(lines):\n",
    "    print(truthParams[\"hit_id\"][0][i],truthParams[\"tx\"][0][i],truthParams[\"ty\"][0][i],truthParams[\"tz\"][0][i],truthParams[\"tpx\"][0][i],truthParams[\"tpy\"][0][i],truthParams[\"tpz\"][0][i],truthParams[\"particle_id\"][0][i])\n",
    "    \n",
    "print(\"\\nparticle_id\", \"vx\", \"vy\", \"vz\", \"px\", \"py\", \"pz\", \"nhits\", \"pdgcode\", \"start_time\", \"primary\")\n",
    "for i in range(lines):\n",
    "    print(particlesParams[\"particle_id\"][0][i],particlesParams[\"vx\"][0][i],particlesParams[\"vy\"][0][i],particlesParams[\"vz\"][0][i],particlesParams[\"px\"][0][i],particlesParams[\"py\"][0][i],particlesParams[\"pz\"][0][i],particlesParams[\"nhits\"][0][i],particlesParams[\"pdgcode\"][0][i],particlesParams[\"start_time\"][0][i],particlesParams[\"primary\"][0][i])"
   ]
  }
 ],
 "metadata": {
  "kernelspec": {
   "display_name": "vis",
   "language": "python",
   "name": "python3"
  },
  "language_info": {
   "codemirror_mode": {
    "name": "ipython",
    "version": 3
   },
   "file_extension": ".py",
   "mimetype": "text/x-python",
   "name": "python",
   "nbconvert_exporter": "python",
   "pygments_lexer": "ipython3",
   "version": "3.10.14"
  }
 },
 "nbformat": 4,
 "nbformat_minor": 2
}
