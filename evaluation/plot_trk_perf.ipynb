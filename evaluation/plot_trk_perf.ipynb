{
 "cells": [
  {
   "cell_type": "markdown",
   "metadata": {
    "tags": []
   },
   "source": [
    "## _Track Performance_\n",
    "\n",
    "Note: We can't find Purity/Fake Rate and Duplication Rate from the _`particles.h5`_ with current variables we have."
   ]
  },
  {
   "cell_type": "code",
   "execution_count": 212,
   "metadata": {},
   "outputs": [],
   "source": [
    "import glob, os, sys, yaml"
   ]
  },
  {
   "cell_type": "code",
   "execution_count": 213,
   "metadata": {},
   "outputs": [],
   "source": [
    "import math, time\n",
    "import numpy as np\n",
    "import scipy as sp\n",
    "import pandas as pd\n",
    "import matplotlib.pyplot as plt\n",
    "import seaborn as sns"
   ]
  },
  {
   "cell_type": "code",
   "execution_count": 214,
   "metadata": {},
   "outputs": [],
   "source": [
    "import torch\n",
    "from sklearn.cluster import DBSCAN\n",
    "from multiprocessing import Pool\n",
    "from functools import partial\n",
    "from utils_plot import make_cmp_plot, pt_configs, eta_configs, get_ratio"
   ]
  },
  {
   "cell_type": "code",
   "execution_count": 215,
   "metadata": {},
   "outputs": [],
   "source": [
    "sys.path.append('..')\n",
    "device = 'cuda' if torch.cuda.is_available() else 'cpu'"
   ]
  },
  {
   "cell_type": "markdown",
   "metadata": {},
   "source": [
    "### _Read Particles HDF5 Store_"
   ]
  },
  {
   "cell_type": "markdown",
   "metadata": {},
   "source": [
    "- To consistent with resutls, we chose $MF > 50\\%$, Minimum True Hits $\\ge 7$ STT hits for reconstructable particles, and Minimum Reco Hits $\\ge 5, 6$ for reconstucted tracks."
   ]
  },
  {
   "cell_type": "code",
   "execution_count": 216,
   "metadata": {},
   "outputs": [],
   "source": [
    "# MF >50%, Functor: >= 7 STT hits, and Min Reco. Hits 5 STT hits\n",
    "path = \"/home/nikin105/mlProject/data/machineLearning/XiAntiXi/track_reconstruction/baseline/evaluated_tracks/0.5_particles.h5\""
   ]
  },
  {
   "cell_type": "code",
   "execution_count": 217,
   "metadata": {},
   "outputs": [],
   "source": [
    "# load HDFStore\n",
    "store = pd.HDFStore(path)"
   ]
  },
  {
   "cell_type": "code",
   "execution_count": 218,
   "metadata": {},
   "outputs": [],
   "source": [
    "# store.get('data').head()\n",
    "df = store['data']"
   ]
  },
  {
   "cell_type": "code",
   "execution_count": 219,
   "metadata": {},
   "outputs": [
    {
     "name": "stdout",
     "output_type": "stream",
     "text": [
      "    particle_id        pt       vx        vy         vz  q  pdgcode    ptheta  \\\n",
      "0            10  0.640105  8.82287  7.355450  60.773998  1     2212  0.204387   \n",
      "1             6  0.466514 -1.60172 -1.243900   3.453810 -1    -2212  0.581907   \n",
      "2             5  0.199414 -1.26608 -1.039330   2.792120  1      211  0.583113   \n",
      "0             7  0.056668  3.20961  0.804367  36.090401  1      211  0.272371   \n",
      "1            11  0.067592 -3.05044 -0.871098   8.126410 -1     -211  0.368016   \n",
      "..          ...       ...      ...       ...        ... ..      ...       ...   \n",
      "1             7  0.168654  4.49233 -4.771990  17.265100  1      211  0.333342   \n",
      "2            10  0.885017 -2.73662  2.249550   7.828480  1     2212  0.491711   \n",
      "3             5  0.200478  2.06817 -1.848130   6.977680  1      211  0.686389   \n",
      "4            11  0.078409 -2.73662  2.249550   7.828480 -1     -211  0.222095   \n",
      "5             9  0.069417 -1.13577  1.014930   3.579760 -1     -211  0.327503   \n",
      "\n",
      "        peta      pphi  n_true_hits  is_matched  is_trackable  evtid  \n",
      "0   2.277398  0.603697            5        True         False  10000  \n",
      "1   1.205803 -2.344376           17        True          True  10000  \n",
      "2   1.203611 -2.508473           14        True          True  10000  \n",
      "0   1.987529 -0.561381            8        True          True  10001  \n",
      "1   1.681399 -1.871723           14        True          True  10001  \n",
      "..       ...       ...          ...         ...           ...    ...  \n",
      "1   1.782413 -0.877321           16        True          True  99996  \n",
      "2   1.382573  2.346321           17        True          True  99996  \n",
      "3   1.029081 -0.618930           18        True          True  99996  \n",
      "4   2.193674 -1.595644            6        True         False  99996  \n",
      "5   1.800412  2.544747            8        True          True  99996  \n",
      "\n",
      "[30407 rows x 14 columns]\n"
     ]
    }
   ],
   "source": [
    "print(df)"
   ]
  },
  {
   "cell_type": "code",
   "execution_count": 220,
   "metadata": {},
   "outputs": [],
   "source": [
    "outdir = \"/home/nikin105/sciebo/Doktor/ML-Project/Images/track_reconstruction/XiAntiXi/baseline\"\n",
    "out_prefix = \"mum5mup5\""
   ]
  },
  {
   "cell_type": "code",
   "execution_count": 221,
   "metadata": {},
   "outputs": [],
   "source": [
    "pt = df.pt.values\n",
    "vx = df.vx.values\n",
    "vy = df.vy.values\n",
    "d0 = np.sqrt(vx**2 + vy**2)\n",
    "z0 = df.vz.values\n",
    "\n",
    "charge = df.q\n",
    "pdgcode = df.pdgcode\n",
    "\n",
    "peta = df.peta.values\n",
    "ptheta = (df.ptheta.values*180)/np.pi   # radians to degrees\n",
    "pphi = (df.pphi.values*180)/np.pi       # radians to degrees\n",
    "\n",
    "pt_matched = df.query(\"is_matched\").pt.values\n",
    "pt_trackable = df.query(\"is_trackable\").pt.values\n",
    "pt_matched_trackable = df.query(\"is_matched and is_trackable\").pt.values\n",
    "\n",
    "matched_idx = df.is_matched             # matched\n",
    "rectable_idx = df.is_trackable          # reconstructable"
   ]
  },
  {
   "cell_type": "code",
   "execution_count": 224,
   "metadata": {},
   "outputs": [
    {
     "name": "stdout",
     "output_type": "stream",
     "text": [
      "[0.46651444 0.19941436 0.05666773 ... 0.885017   0.2004777  0.06941739]\n"
     ]
    }
   ],
   "source": [
    "print(pt_matched_trackable)"
   ]
  },
  {
   "cell_type": "code",
   "execution_count": 228,
   "metadata": {},
   "outputs": [
    {
     "name": "stdout",
     "output_type": "stream",
     "text": [
      "average efficiency: 73.86\n",
      "/home/nikin105/sciebo/Doktor/ML-Project/Images/track_reconstruction/XiAntiXi/baseline/efficiency_vs_pt.png\n"
     ]
    },
    {
     "data": {
      "image/png": "[encoded data removed]",
      "text/plain": [
       "<Figure size 576x432 with 1 Axes>"
      ]
     },
     "metadata": {},
     "output_type": "display_data"
    }
   ],
   "source": [
    "\n",
    "n, bins, patches = ax.hist(pt,50)\n",
    "n2, bins2, patches2 = ax.hist(pt_matched,50)\n",
    "n3, bins3, patches3 = ax.hist(pt_trackable,50)\n",
    "n4, bins4, patches4 = ax.hist(pt_matched_trackable,50)\n",
    "\n",
    "plt.close(\"all\")\n",
    "sns.set_theme()\n",
    "sns.set_style(\"whitegrid\")\n",
    "sns.set_color_codes()\n",
    "sns.set_context(\"talk\")\n",
    "bin_width = 0.02\n",
    "figure, ax = plt.subplots(figsize=(8, 6))\n",
    "\n",
    "f = np.zeros(len(n))\n",
    "ferr = np.zeros(len(n))\n",
    "f2 = np.zeros(len(n))\n",
    "f2err = np.zeros(len(n))\n",
    "\n",
    "for i in range(len(n)):\n",
    "    if n[i] == 0 or n2[i] == 0 or n3[i] == 0 or n4[i] == 0:\n",
    "        f[i] = 0\n",
    "        f2[i] = 0\n",
    "        ferr[i] = 0\n",
    "        f2err[i] = 0\n",
    "    else:\n",
    "        f[i] = n2[i]/n[i] * 100\n",
    "        ferr[i] = np.sqrt(n2[i]/n[i]**2 + n2[i]**2/n[i]**3) * 100\n",
    "        f2[i] = n4[i]/n3[i] * 100\n",
    "        f2err[i] = np.sqrt(n4[i]/n3[i]**2 + n4[i]**2/n3[i]**3) * 100\n",
    "avf2 = np.average(f2)\n",
    "print(f\"average efficiency: {avf2:.2f}\")\n",
    "binw = bins[1]-bins[0]\n",
    "fx = (bins[:-1] + bins[1:])/2\n",
    "ax.errorbar(fx, f, yerr=ferr, xerr=binw/2, fmt='.', label='total efficiency')\n",
    "ax.errorbar(fx, f2, yerr=f2err, xerr=binw/2, fmt='.', label='algorithm efficiency')\n",
    "ax.set_xlabel('$p_T$ [GeV]')\n",
    "ax.set_ylabel('efficiency [%]')\n",
    "ax.set_ylim(0, 110)\n",
    "ax.axhline(avf2, color=sns.color_palette(\"deep\")[3], linestyle='--', label='average total efficiency')\n",
    "ax.legend(loc=\"lower right\")\n",
    "print(f\"{outdir}/efficiency_vs_pt.png\")\n",
    "figure.savefig(f\"{outdir}/efficiency_vs_pt.png\", dpi=300)\n",
    "figure.savefig(f\"{outdir}/efficiency_vs_pt.pdf\", dpi=300)"
   ]
  },
  {
   "cell_type": "code",
   "execution_count": 46,
   "metadata": {},
   "outputs": [],
   "source": [
    "# plot the efficiency as a function of pT, eta\n",
    "make_cmp_plot_fn = partial(make_cmp_plot,\n",
    "                           legends=[\"Selected\", \"Selected Matched\", \"Reconstructable\", \"Reconst. Matched\"],\n",
    "                           ylabel=\"Particles\", ratio_label='Track Efficiency',\n",
    "                           ratio_legends=[\"Tracking Efficiency (Phys.)\", \"Tracking Efficiency (Tech.)\"])\n",
    "                           # ratio_legends=[r\"$\\epsilon$\", r\"$\\epsilon_{tech.}$\"])"
   ]
  },
  {
   "cell_type": "markdown",
   "metadata": {},
   "source": [
    "### _1. Tranverse Momentum_"
   ]
  },
  {
   "cell_type": "code",
   "execution_count": 47,
   "metadata": {},
   "outputs": [],
   "source": [
    "pt_min, pt_max = min(pt), max(pt)\n",
    "\n",
    "# linear scale on x-axis\n",
    "pt_bins = np.linspace(pt_min, pt_max, num=50)\n",
    "\n",
    "# log scale on x-axis\n",
    "# pt_bins = np.logspace(np.log10(pt_min), np.log10(pt_max), 20)\n",
    "\n",
    "# pt_bins = [0, 0.05, 0.1, 0.125, 0.15, 0.175, 0.2, 0.225, 0.25, 0.275, 0.3] #, 0.35, 0.6]\n",
    "\n",
    "pt_configs = {\n",
    "    'bins': pt_bins,\n",
    "    'histtype': 'step',\n",
    "    'lw': 1,\n",
    "    'log': False\n",
    "}"
   ]
  },
  {
   "cell_type": "code",
   "execution_count": 48,
   "metadata": {},
   "outputs": [
    {
     "name": "stdout",
     "output_type": "stream",
     "text": [
      "cut_pt: 0.0\n"
     ]
    },
    {
     "data": {
      "text/plain": [
       "<matplotlib.lines.Line2D at 0x7d3c971ad130>"
      ]
     },
     "execution_count": 48,
     "metadata": {},
     "output_type": "execute_result"
    },
    {
     "data": {
      "image/png": "[encoded data removed]",
      "text/plain": [
       "<Figure size 576x432 with 2 Axes>"
      ]
     },
     "metadata": {
      "needs_background": "light"
     },
     "output_type": "display_data"
    },
    {
     "data": {
      "image/png": "[encoded data removed]",
      "text/plain": [
       "<Figure size 576x432 with 2 Axes>"
      ]
     },
     "metadata": {
      "needs_background": "light"
     },
     "output_type": "display_data"
    }
   ],
   "source": [
    "# vertex cuts\n",
    "all_cuts = [0.0]\n",
    "\n",
    "for (cut_pt) in all_cuts:\n",
    "    print(\"cut_pt: {}\".format(cut_pt))\n",
    "\n",
    "    cuts = (pt > cut_pt)\n",
    "\n",
    "    # make pt plots\n",
    "    sel_particles = pt[cuts]                                        # selected/generated\n",
    "    sel_matched_particles = pt[cuts & matched_idx]                  # selected and matched\n",
    "    reco_particles = pt[cuts & rectable_idx]                        # selected and reconstructable\n",
    "    reco_matched_particles = pt[cuts & rectable_idx & matched_idx]  # selected, reconstructable and matched\n",
    "    \n",
    "    # print(\"efficiency (phys.): \", (sel_matched_particles.shape[0]/sel_particles.shape[0]*100))\n",
    "    # print(\"efficiency (tech.): \", (reco_matched_particles.shape[0]/reco_particles.shape[0]*100))\n",
    "    \n",
    "    make_cmp_plot_fn([sel_particles, sel_matched_particles, reco_particles, reco_matched_particles], \n",
    "        configs=pt_configs, xlabel=r\"$p_t$ [GeV]\",\n",
    "        outname=os.path.join(outdir, \"{}_pt_cut{}\".format(out_prefix, cut_pt)),\n",
    "        ymin=0.0, loc='upper right')\n",
    "    \n",
    "plt.axhline(y=0.9, color='r', linestyle='--')"
   ]
  },
  {
   "cell_type": "markdown",
   "metadata": {},
   "source": [
    "### _2. Theta Angle_"
   ]
  },
  {
   "cell_type": "code",
   "execution_count": 49,
   "metadata": {},
   "outputs": [
    {
     "data": {
      "text/plain": [
       "(0.97565126, 179.00992)"
      ]
     },
     "execution_count": 49,
     "metadata": {},
     "output_type": "execute_result"
    }
   ],
   "source": [
    "min(ptheta), max(ptheta)"
   ]
  },
  {
   "cell_type": "code",
   "execution_count": 50,
   "metadata": {},
   "outputs": [],
   "source": [
    "ptheta_min, ptheta_max = min(ptheta), max(ptheta)\n",
    "\n",
    "# ptheta_min, ptheta_max = 20,140\n",
    "\n",
    "# linear scale on x-axis\n",
    "ptheta_bins = np.linspace(22, ptheta_max, num=20)\n",
    "\n",
    "# log scale on x-axis\n",
    "# ptheta_bins = np.logspace(np.log10(ptheta_min), np.log10(ptheta_max), 20)\n",
    "\n",
    "# ptheta_bins = [22, 28, 34, 40, 46, 52, 58, 64, 74, 84, 92, 105, 120, 142]\n",
    "\n",
    "ptheta_configs = {\n",
    "    'bins': ptheta_bins,\n",
    "    'histtype': 'step',\n",
    "    'lw': 1,\n",
    "    'log': False\n",
    "}"
   ]
  },
  {
   "cell_type": "code",
   "execution_count": 51,
   "metadata": {},
   "outputs": [
    {
     "name": "stdout",
     "output_type": "stream",
     "text": [
      "cut_ptheta: 0.0\n"
     ]
    },
    {
     "data": {
      "image/png": "[encoded data removed]",
      "text/plain": [
       "<Figure size 576x432 with 2 Axes>"
      ]
     },
     "metadata": {
      "needs_background": "light"
     },
     "output_type": "display_data"
    },
    {
     "data": {
      "image/png": "[encoded data removed]",
      "text/plain": [
       "<Figure size 576x432 with 2 Axes>"
      ]
     },
     "metadata": {
      "needs_background": "light"
     },
     "output_type": "display_data"
    }
   ],
   "source": [
    "# vertex cuts\n",
    "all_cuts = [0.0]\n",
    "\n",
    "for (cut_ptheta) in all_cuts:\n",
    "    print(\"cut_ptheta: {}\".format(cut_ptheta))\n",
    "\n",
    "    cuts = (ptheta > cut_ptheta)\n",
    "\n",
    "    # make pt plots\n",
    "    sel_particles = ptheta[cuts]                                        # selected/generated\n",
    "    sel_matched_particles = ptheta[cuts & matched_idx]                  # selected and matched\n",
    "    reco_particles = ptheta[cuts & rectable_idx]                        # selected and reconstructable\n",
    "    reco_matched_particles = ptheta[cuts & rectable_idx & matched_idx]  # selected, reconstructable and matched\n",
    "    \n",
    "    # print(\"efficiency (phys.): \", (sel_matched_particles.shape[0]/sel_particles.shape[0]*100))\n",
    "    # print(\"efficiency (tech.): \", (reco_matched_particles.shape[0]/reco_particles.shape[0]*100))\n",
    "    \n",
    "    make_cmp_plot_fn([sel_particles, sel_matched_particles, reco_particles, reco_matched_particles], \n",
    "        configs=ptheta_configs, xlabel=r\"$\\theta$ [Deg.]\",\n",
    "        outname=os.path.join(outdir, \"{}_ptheta_cut{}\".format(out_prefix, cut_ptheta)),\n",
    "        ymin=0.0, loc='upper right')"
   ]
  },
  {
   "cell_type": "markdown",
   "metadata": {},
   "source": [
    "### _3. Phi Angle_"
   ]
  },
  {
   "cell_type": "code",
   "execution_count": 52,
   "metadata": {},
   "outputs": [
    {
     "data": {
      "text/plain": [
       "(-179.99944, 179.99309)"
      ]
     },
     "execution_count": 52,
     "metadata": {},
     "output_type": "execute_result"
    }
   ],
   "source": [
    "min(pphi), max(pphi)"
   ]
  },
  {
   "cell_type": "code",
   "execution_count": 53,
   "metadata": {},
   "outputs": [],
   "source": [
    "pphi_min, pphi_max = min(pphi), max(pphi)\n",
    "\n",
    "# linear scale on x-axis\n",
    "pphi_bins = np.linspace(-180, 180, num=15)\n",
    "\n",
    "pphi_configs = {\n",
    "    'bins': pphi_bins,\n",
    "    'histtype': 'step',\n",
    "    'lw': 1,\n",
    "    'log': False\n",
    "}"
   ]
  },
  {
   "cell_type": "code",
   "execution_count": 54,
   "metadata": {},
   "outputs": [
    {
     "name": "stdout",
     "output_type": "stream",
     "text": [
      "cut_pphi: -180\n"
     ]
    },
    {
     "data": {
      "image/png": "[encoded data removed]",
      "text/plain": [
       "<Figure size 576x432 with 2 Axes>"
      ]
     },
     "metadata": {
      "needs_background": "light"
     },
     "output_type": "display_data"
    },
    {
     "data": {
      "image/png": "[encoded data removed]",
      "text/plain": [
       "<Figure size 576x432 with 2 Axes>"
      ]
     },
     "metadata": {
      "needs_background": "light"
     },
     "output_type": "display_data"
    }
   ],
   "source": [
    "# vertex cuts\n",
    "all_cuts = [-180]\n",
    "\n",
    "for (cut_pphi) in all_cuts:\n",
    "    print(\"cut_pphi: {}\".format(cut_pphi))\n",
    "\n",
    "    cuts = (pphi > cut_pphi)\n",
    "\n",
    "    # make pt plots\n",
    "    sel_particles = pphi[cuts]                                        # selected/generated\n",
    "    sel_matched_particles = pphi[cuts & matched_idx]                  # selected and matched\n",
    "    reco_particles = pphi[cuts & rectable_idx]                        # selected and reconstructable\n",
    "    reco_matched_particles = pphi[cuts & rectable_idx & matched_idx]  # selected, reconstructable and matched\n",
    "    \n",
    "    # print(\"efficiency (phys.): \", (sel_matched_particles.shape[0]/sel_particles.shape[0]*100))\n",
    "    # print(\"efficiency (tech.): \", (reco_matched_particles.shape[0]/reco_particles.shape[0]*100))\n",
    "    \n",
    "    make_cmp_plot_fn([sel_particles, sel_matched_particles, reco_particles, reco_matched_particles], \n",
    "        configs=pphi_configs, xlabel=r\"$\\phi$ [Deg.]\",\n",
    "        outname=os.path.join(outdir, \"{}_pphi_cut{}\".format(out_prefix, cut_pphi)),\n",
    "        ymin=0.0, loc='lower center')"
   ]
  },
  {
   "cell_type": "markdown",
   "metadata": {},
   "source": [
    "### _4. Decay Vertex_"
   ]
  },
  {
   "cell_type": "code",
   "execution_count": 55,
   "metadata": {
    "tags": []
   },
   "outputs": [
    {
     "data": {
      "text/plain": [
       "(0.0, 57.062347)"
      ]
     },
     "execution_count": 55,
     "metadata": {},
     "output_type": "execute_result"
    }
   ],
   "source": [
    "min(d0), max(d0)"
   ]
  },
  {
   "cell_type": "code",
   "execution_count": 56,
   "metadata": {},
   "outputs": [],
   "source": [
    "d0_min, d0_max = min(d0), max(d0)\n",
    "\n",
    "# linear scale on x-axis\n",
    "d0_bins = np.linspace(d0_min, 15, num=15)   # will give 15 bins\n",
    "\n",
    "# log scale on x-axis\n",
    "# ptheta_bins = np.logspace(np.log10(ptheta_min), np.log10(ptheta_max), 20)\n",
    "\n",
    "# d0_bins = [0., 1.1, 2.15, 3.2, 4.0, 5.3, 6.5, 7.5, 8.5, 9.5, 10.7, 12, 15]\n",
    "\n",
    "d0_configs = {\n",
    "    'bins': d0_bins,\n",
    "    'histtype': 'step',\n",
    "    'lw': 1,\n",
    "    'log': False\n",
    "}"
   ]
  },
  {
   "cell_type": "code",
   "execution_count": 57,
   "metadata": {},
   "outputs": [
    {
     "name": "stdout",
     "output_type": "stream",
     "text": [
      "cut_d0: 0.0\n"
     ]
    },
    {
     "data": {
      "image/png": "[encoded data removed]",
      "text/plain": [
       "<Figure size 576x432 with 2 Axes>"
      ]
     },
     "metadata": {
      "needs_background": "light"
     },
     "output_type": "display_data"
    },
    {
     "data": {
      "image/png": "[encoded data removed]",
      "text/plain": [
       "<Figure size 576x432 with 2 Axes>"
      ]
     },
     "metadata": {
      "needs_background": "light"
     },
     "output_type": "display_data"
    }
   ],
   "source": [
    "# vertex cuts\n",
    "all_cuts = [0.0]\n",
    "\n",
    "for (cut_d0) in all_cuts:\n",
    "    print(\"cut_d0: {}\".format(cut_d0))\n",
    "\n",
    "    cuts = (d0 > cut_d0)\n",
    "\n",
    "    # make pt plots\n",
    "    sel_particles = d0[cuts]                                        # selected/generated\n",
    "    sel_matched_particles = d0[cuts & matched_idx]                  # selected and matched\n",
    "    reco_particles = d0[cuts & rectable_idx]                        # selected and reconstructable\n",
    "    reco_matched_particles = d0[cuts & rectable_idx & matched_idx]  # selected, reconstructable and matched\n",
    "    \n",
    "    # print(\"efficiency (phys.): \", (sel_matched_particles.shape[0]/sel_particles.shape[0]*100))\n",
    "    # print(\"efficiency (tech.): \", (reco_matched_particles.shape[0]/reco_particles.shape[0]*100))\n",
    "    \n",
    "    make_cmp_plot_fn([sel_particles, sel_matched_particles, reco_particles, reco_matched_particles], \n",
    "        configs=d0_configs, xlabel=r\"$d_0$ [cm]\",\n",
    "        outname=os.path.join(outdir, \"{}_d0_cut{}\".format(out_prefix, cut_d0)),\n",
    "        ymin=0.0, loc='upper right')"
   ]
  },
  {
   "cell_type": "markdown",
   "metadata": {},
   "source": [
    "___\n",
    "## _Recreate the Summary from Track Evalution Script_"
   ]
  },
  {
   "cell_type": "code",
   "execution_count": 58,
   "metadata": {},
   "outputs": [
    {
     "data": {
      "text/html": [
       "<div>\n",
       "<style scoped>\n",
       "    .dataframe tbody tr th:only-of-type {\n",
       "        vertical-align: middle;\n",
       "    }\n",
       "\n",
       "    .dataframe tbody tr th {\n",
       "        vertical-align: top;\n",
       "    }\n",
       "\n",
       "    .dataframe thead th {\n",
       "        text-align: right;\n",
       "    }\n",
       "</style>\n",
       "<table border=\"1\" class=\"dataframe\">\n",
       "  <thead>\n",
       "    <tr style=\"text-align: right;\">\n",
       "      <th></th>\n",
       "      <th>particle_id</th>\n",
       "      <th>pt</th>\n",
       "      <th>vx</th>\n",
       "      <th>vy</th>\n",
       "      <th>vz</th>\n",
       "      <th>q</th>\n",
       "      <th>pdgcode</th>\n",
       "      <th>ptheta</th>\n",
       "      <th>peta</th>\n",
       "      <th>pphi</th>\n",
       "      <th>n_true_hits</th>\n",
       "      <th>is_matched</th>\n",
       "      <th>is_trackable</th>\n",
       "      <th>evtid</th>\n",
       "    </tr>\n",
       "  </thead>\n",
       "  <tbody>\n",
       "    <tr>\n",
       "      <th>0</th>\n",
       "      <td>8</td>\n",
       "      <td>1.355879</td>\n",
       "      <td>0.0</td>\n",
       "      <td>0.0</td>\n",
       "      <td>0.0</td>\n",
       "      <td>-1</td>\n",
       "      <td>-13</td>\n",
       "      <td>1.235781</td>\n",
       "      <td>0.341464</td>\n",
       "      <td>-2.095082</td>\n",
       "      <td>18</td>\n",
       "      <td>True</td>\n",
       "      <td>True</td>\n",
       "      <td>1001</td>\n",
       "    </tr>\n",
       "    <tr>\n",
       "      <th>1</th>\n",
       "      <td>5</td>\n",
       "      <td>0.182781</td>\n",
       "      <td>0.0</td>\n",
       "      <td>0.0</td>\n",
       "      <td>0.0</td>\n",
       "      <td>1</td>\n",
       "      <td>13</td>\n",
       "      <td>2.126067</td>\n",
       "      <td>-0.586222</td>\n",
       "      <td>-0.776233</td>\n",
       "      <td>17</td>\n",
       "      <td>True</td>\n",
       "      <td>True</td>\n",
       "      <td>1001</td>\n",
       "    </tr>\n",
       "    <tr>\n",
       "      <th>2</th>\n",
       "      <td>9</td>\n",
       "      <td>0.363136</td>\n",
       "      <td>0.0</td>\n",
       "      <td>0.0</td>\n",
       "      <td>0.0</td>\n",
       "      <td>-1</td>\n",
       "      <td>-13</td>\n",
       "      <td>1.811027</td>\n",
       "      <td>-0.242576</td>\n",
       "      <td>-3.076475</td>\n",
       "      <td>18</td>\n",
       "      <td>True</td>\n",
       "      <td>True</td>\n",
       "      <td>1001</td>\n",
       "    </tr>\n",
       "    <tr>\n",
       "      <th>3</th>\n",
       "      <td>2</td>\n",
       "      <td>1.048468</td>\n",
       "      <td>0.0</td>\n",
       "      <td>0.0</td>\n",
       "      <td>0.0</td>\n",
       "      <td>1</td>\n",
       "      <td>13</td>\n",
       "      <td>1.034383</td>\n",
       "      <td>0.564158</td>\n",
       "      <td>-0.153128</td>\n",
       "      <td>17</td>\n",
       "      <td>True</td>\n",
       "      <td>True</td>\n",
       "      <td>1001</td>\n",
       "    </tr>\n",
       "    <tr>\n",
       "      <th>4</th>\n",
       "      <td>6</td>\n",
       "      <td>1.300930</td>\n",
       "      <td>0.0</td>\n",
       "      <td>0.0</td>\n",
       "      <td>0.0</td>\n",
       "      <td>-1</td>\n",
       "      <td>-13</td>\n",
       "      <td>1.763552</td>\n",
       "      <td>-0.193960</td>\n",
       "      <td>0.332117</td>\n",
       "      <td>17</td>\n",
       "      <td>True</td>\n",
       "      <td>True</td>\n",
       "      <td>1001</td>\n",
       "    </tr>\n",
       "  </tbody>\n",
       "</table>\n",
       "</div>"
      ],
      "text/plain": [
       "   particle_id        pt   vx   vy   vz  q  pdgcode    ptheta      peta  \\\n",
       "0            8  1.355879  0.0  0.0  0.0 -1      -13  1.235781  0.341464   \n",
       "1            5  0.182781  0.0  0.0  0.0  1       13  2.126067 -0.586222   \n",
       "2            9  0.363136  0.0  0.0  0.0 -1      -13  1.811027 -0.242576   \n",
       "3            2  1.048468  0.0  0.0  0.0  1       13  1.034383  0.564158   \n",
       "4            6  1.300930  0.0  0.0  0.0 -1      -13  1.763552 -0.193960   \n",
       "\n",
       "       pphi  n_true_hits  is_matched  is_trackable evtid  \n",
       "0 -2.095082           18        True          True  1001  \n",
       "1 -0.776233           17        True          True  1001  \n",
       "2 -3.076475           18        True          True  1001  \n",
       "3 -0.153128           17        True          True  1001  \n",
       "4  0.332117           17        True          True  1001  "
      ]
     },
     "execution_count": 58,
     "metadata": {},
     "output_type": "execute_result"
    }
   ],
   "source": [
    "df.head()"
   ]
  },
  {
   "cell_type": "code",
   "execution_count": 59,
   "metadata": {},
   "outputs": [],
   "source": [
    "# Lets find Phys. and Tech. Efficicencies\n",
    "sel_particles = df                                        # selected/generated\n",
    "sel_matched_particles = df[matched_idx]                   # selected and matched\n",
    "reco_particles = df[rectable_idx]                         # selected and reconstructable\n",
    "reco_matched_particles = df[rectable_idx & matched_idx]   # selected, reconstructable and matched"
   ]
  },
  {
   "cell_type": "code",
   "execution_count": 60,
   "metadata": {},
   "outputs": [
    {
     "data": {
      "text/plain": [
       "(51163, 47001, 49086, 46154)"
      ]
     },
     "execution_count": 60,
     "metadata": {},
     "output_type": "execute_result"
    }
   ],
   "source": [
    "sel_particles.shape[0], sel_matched_particles.shape[0], reco_particles.shape[0], reco_matched_particles.shape[0]"
   ]
  },
  {
   "cell_type": "markdown",
   "metadata": {},
   "source": [
    "- _Physics Efficiency_"
   ]
  },
  {
   "cell_type": "code",
   "execution_count": 61,
   "metadata": {},
   "outputs": [
    {
     "name": "stdout",
     "output_type": "stream",
     "text": [
      "efficiency (phys.): 91.87%\n"
     ]
    }
   ],
   "source": [
    "# Physics Efficiency = (sel, matched)/sel\n",
    "print(\"efficiency (phys.): {:>3.2f}%\".format(sel_matched_particles.shape[0]/sel_particles.shape[0]*100))"
   ]
  },
  {
   "cell_type": "code",
   "execution_count": 62,
   "metadata": {},
   "outputs": [
    {
     "name": "stdout",
     "output_type": "stream",
     "text": [
      "Tracking Efficiency (Phys.): 91.87%\n"
     ]
    }
   ],
   "source": [
    "n_sel_particles = df.shape[0]\n",
    "n_matched_sel_particles = df[df.is_matched].shape[0]\n",
    "print(\"Tracking Efficiency (Phys.): {:>3.2f}%\".format(100 * n_matched_sel_particles/n_sel_particles))"
   ]
  },
  {
   "cell_type": "markdown",
   "metadata": {},
   "source": [
    "- _Technical Efficiency_"
   ]
  },
  {
   "cell_type": "code",
   "execution_count": 63,
   "metadata": {},
   "outputs": [
    {
     "name": "stdout",
     "output_type": "stream",
     "text": [
      "efficiency (tech.): 94.03%\n"
     ]
    }
   ],
   "source": [
    "# Technical Efficiency = (sel, reconstructable, matched)/(sel, reconstructable)\n",
    "print(\"efficiency (tech.): {:>3.2f}%\".format(reco_matched_particles.shape[0]/reco_particles.shape[0]*100))"
   ]
  },
  {
   "cell_type": "markdown",
   "metadata": {
    "tags": []
   },
   "source": [
    "## _Efficiency Difference Between Positive and Negative Charge_\n",
    "\n",
    "- Lets plot difference of overall tracking efficiences for positive and negative charges."
   ]
  },
  {
   "cell_type": "code",
   "execution_count": 64,
   "metadata": {},
   "outputs": [],
   "source": [
    "# fiducial cut on charge\n",
    "fiducial_pos = (charge > 0)\n",
    "fiducial_neg = (charge < 0)"
   ]
  },
  {
   "cell_type": "code",
   "execution_count": 65,
   "metadata": {},
   "outputs": [],
   "source": [
    "def sel_particles(var, fiducial):\n",
    "    sel_particles = var[fiducial]                                        # selected/generated\n",
    "    sel_matched_particles = var[fiducial & matched_idx]                  # selected and matched\n",
    "    return sel_particles, sel_matched_particles"
   ]
  },
  {
   "cell_type": "code",
   "execution_count": 66,
   "metadata": {},
   "outputs": [],
   "source": [
    "def reco_particles(var, fiducial):\n",
    "    reco_particles = var[fiducial & rectable_idx]                        # selected and reconstructable\n",
    "    reco_matched_particles = var[fiducial & rectable_idx & matched_idx]  # selected, reconstructable and matched\n",
    "    return reco_particles, reco_matched_particles"
   ]
  },
  {
   "cell_type": "markdown",
   "metadata": {},
   "source": [
    "- Difference in overall efficiency"
   ]
  },
  {
   "cell_type": "code",
   "execution_count": 67,
   "metadata": {},
   "outputs": [],
   "source": [
    "pt = df.pt"
   ]
  },
  {
   "cell_type": "code",
   "execution_count": 68,
   "metadata": {},
   "outputs": [],
   "source": [
    "sel, sel_matched = sel_particles(pt, fiducial_pos)\n",
    "\n",
    "sel_vals, sel_bins = np.histogram(sel, bins=pt_bins)\n",
    "sel_match_vals, sel_match_bins = np.histogram(sel_matched, bins=pt_bins)\n",
    "\n",
    "eff1, err1 = get_ratio(sel_match_vals, sel_vals)\n",
    "xvals1 = (sel_bins[1:] + sel_bins[:-1]) / 2\n",
    "xerrs1 = (sel_bins[1:] - sel_bins[:-1]) / 2"
   ]
  },
  {
   "cell_type": "code",
   "execution_count": 69,
   "metadata": {},
   "outputs": [],
   "source": [
    "sel, sel_matched = sel_particles(pt, fiducial_neg)\n",
    "\n",
    "sel_vals, sel_bins = np.histogram(sel, bins=pt_bins)\n",
    "sel_match_vals, sel_match_bins = np.histogram(sel_matched, bins=pt_bins)\n",
    "\n",
    "eff2, err2 = get_ratio(sel_match_vals, sel_vals)\n",
    "xvals2 = (sel_bins[1:] + sel_bins[:-1]) / 2\n",
    "xerrs2 = (sel_bins[1:] - sel_bins[:-1]) / 2"
   ]
  },
  {
   "cell_type": "code",
   "execution_count": 70,
   "metadata": {},
   "outputs": [],
   "source": [
    "xvals = [e1 - e2 for (e1, e2) in zip(xvals1, xvals2)]\n",
    "xerrs = [e1 - e2 for (e1, e2) in zip(xerrs1, xerrs2)]\n",
    "eff = [e1 - e2 for (e1, e2) in zip(eff1, eff2)]\n",
    "err = [math.sqrt(e1**2 + e2**2) for (e1, e2) in zip(err1, err2)]"
   ]
  },
  {
   "cell_type": "code",
   "execution_count": 71,
   "metadata": {},
   "outputs": [
    {
     "data": {
      "image/png": "[encoded data removed]",
      "text/plain": [
       "<Figure size 576x432 with 1 Axes>"
      ]
     },
     "metadata": {
      "needs_background": "light"
     },
     "output_type": "display_data"
    }
   ],
   "source": [
    "# Plot the ratio of the histograms as an efficiency\n",
    "fig, ax = plt.subplots(figsize=(8,6))\n",
    "\n",
    "ax.errorbar(xvals1, eff, xerr=xerrs1, yerr=err, fmt='o', color='b', label='Phys. Efficiency (Difference)')\n",
    "ax.axhline(y = 0., color = 'r', linestyle = '-')\n",
    "\n",
    "# Add x and y labels\n",
    "ax.set_xlabel('$p_t \\: [GeV]$', fontsize=20)\n",
    "ax.set_ylabel('Efficiency Difference', fontsize=20)\n",
    "ax.tick_params(axis='both', which='major', labelsize=15)\n",
    "ax.tick_params(axis='both', which='minor', labelsize=12)\n",
    "# ax.set_xlim(0, 0.6)\n",
    "ax.set_ylim(-0.15, 0.15)\n",
    "# ax.legend(fontsize=20, loc='best')\n",
    "ax.grid(False)\n",
    "fig.tight_layout()\n",
    "plt.show()"
   ]
  },
  {
   "cell_type": "markdown",
   "metadata": {},
   "source": [
    "### _Plotting Efficiency_"
   ]
  },
  {
   "cell_type": "code",
   "execution_count": 72,
   "metadata": {},
   "outputs": [],
   "source": [
    "def plot_observable_performance(particles: pd.DataFrame):\n",
    "\n",
    "    pt = particles.pt.values\n",
    "    eta = particles.peta.values\n",
    "    \n",
    "    matched_idx = particles.is_matched\n",
    "    rectable_idx = particles.is_trackable\n",
    "    \n",
    "\n",
    "    # plot the performance `metric` as a function of `observable`    \n",
    "    make_cmp_plot_fn = partial(make_cmp_plot,\n",
    "        legends=[\"Selected\", \"Sel. Matched\", \"Reconstructable\", \"Reconst. Matched\"],\n",
    "        ylabel=\"Num. particles\", ratio_label='Track efficiency',\n",
    "        ratio_legends=[\"Physics Eff\", \"Technical Eff\"])\n",
    "\n",
    "    all_cuts = [(0, 4)]\n",
    "    for (cut_pt, cut_eta) in all_cuts:\n",
    "        cuts = (pt > cut_pt) & (np.abs(eta) < cut_eta)\n",
    "        \n",
    "        # make pt plots\n",
    "        sel_particles = pt[cuts]                                        # selected/generated\n",
    "        sel_matched_particles = pt[cuts & matched_idx]                  # selected and matched\n",
    "        reco_particles = pt[cuts & rectable_idx]                        # selected and reconstructable\n",
    "        reco_matched_particles = pt[cuts & rectable_idx & matched_idx]  # selected, reconstructable and matched\n",
    "\n",
    "\n",
    "        print(\"efficiency (phys.): \", (sel_matched_particles.shape[0]/sel_particles.shape[0]*100))\n",
    "        print(\"efficiency (tech.): \", (reco_matched_particles.shape[0]/reco_particles.shape[0]*100))\n",
    "\n",
    "        make_cmp_plot_fn([sel_particles, sel_matched_particles, reco_particles, reco_matched_particles],\n",
    "                         configs=pt_configs, xlabel=\"pT [MeV]\",\n",
    "                         outname=os.path.join(outdir, \"test_pt_cut{}\".format(cut_pt)),\n",
    "                         ymin=0.6)\n"
   ]
  },
  {
   "cell_type": "code",
   "execution_count": 73,
   "metadata": {},
   "outputs": [],
   "source": [
    "# plot_observable_performance(df)"
   ]
  },
  {
   "cell_type": "code",
   "execution_count": 74,
   "metadata": {},
   "outputs": [],
   "source": [
    "def plot_pt_eff(particles):\n",
    "    \"\"\"Phys Eff: pt vs reco_pt, Tech Eff: true_pt vs reco_pt\"\"\"\n",
    "    \n",
    "    pt = particles.pt.values\n",
    "    gen_pt = pt\n",
    "    true_pt = pt[particles[\"is_trackable\"]]\n",
    "    reco_pt = pt[particles[\"is_trackable\"] & particles[\"is_matched\"]]\n",
    "\n",
    "    # Get histogram values of true_pt and reco_pt\n",
    "    gen_vals, gen_bins = np.histogram(gen_pt, bins=pt_bins)\n",
    "    true_vals, true_bins = np.histogram(true_pt, bins=pt_bins)    # change gen_pt, true_pt to get phys/tech eff.\n",
    "    reco_vals, reco_bins = np.histogram(reco_pt, bins=pt_bins)\n",
    "\n",
    "    # Plot the ratio of the histograms as an efficiency\n",
    "    fig, ax = plt.subplots(figsize=(8,6))\n",
    "    \n",
    "    eff, err = get_ratio(reco_vals, gen_vals)\n",
    "    xvals = (true_bins[1:] + true_bins[:-1]) / 2\n",
    "    xerrs = (true_bins[1:] - true_bins[:-1]) / 2\n",
    "    \n",
    "    ax.errorbar(xvals, eff, xerr=xerrs, yerr=err, fmt='o', label='Phys. Efficiency')\n",
    "    \n",
    "    eff, err = get_ratio(reco_vals, true_vals)\n",
    "    xvals = (true_bins[1:] + true_bins[:-1]) / 2\n",
    "    xerrs = (true_bins[1:] - true_bins[:-1]) / 2\n",
    "    \n",
    "    ax.errorbar(xvals, eff, xerr=xerrs, yerr=err, fmt='o', label='Tech. Efficiency')    \n",
    "    \n",
    "    # Add x and y labels\n",
    "    ax.set_xlabel('$p_t [GeV]$', fontsize=20)\n",
    "    ax.set_ylabel('Track Efficiency', fontsize=20)\n",
    "    ax.tick_params(axis='both', which='major', labelsize=15)\n",
    "    ax.tick_params(axis='both', which='minor', labelsize=12)\n",
    "    # ax.set_xlim(0, 0.6)\n",
    "    # ax.set_ylim(0, 1.5)\n",
    "    # ax.legend(fontsize=20, loc='best')\n",
    "    ax.grid(False)\n",
    "    fig.tight_layout()\n",
    "    # fig.savefig(\"test_eff.pdf\")"
   ]
  },
  {
   "cell_type": "code",
   "execution_count": 75,
   "metadata": {},
   "outputs": [],
   "source": [
    "# plot_pt_eff(df)"
   ]
  },
  {
   "cell_type": "code",
   "execution_count": 76,
   "metadata": {},
   "outputs": [],
   "source": [
    "def plot_particles(particles):\n",
    "    \"\"\"Phys Eff: pt vs reco_pt, Tech Eff: true_pt vs reco_pt\"\"\"\n",
    "    \n",
    "    pt = particles.pt.values\n",
    "    gen_pt = pphi\n",
    "    true_pt = ppi[particles[\"is_trackable\"]]\n",
    "    reco_pt = pt[particles[\"is_trackable\"] & particles[\"is_matched\"]]\n",
    "\n",
    "    # Get histogram values of true_pt and reco_pt\n",
    "    gen_vals, gen_bins = np.histogram(gen_pt, bins=pt_bins)\n",
    "    true_vals, true_bins = np.histogram(true_pt, bins=pt_bins)    # change gen_pt, true_pt to get phys/tech eff.\n",
    "    reco_vals, reco_bins = np.histogram(reco_pt, bins=pt_bins)\n",
    "\n",
    "    # Plot the ratio of the histograms as an efficiency\n",
    "    fig, ax = plt.subplots(figsize=(8,6))\n",
    "    \n",
    "    legend=[\"Selected\", \"Reconstructable\", \"Reconst. Matched\"]\n",
    "    \n",
    "    vals, bins, _ = ax.hist(gen_pt, pt_bins, label=legend[0])\n",
    "    vals, bins, _ = ax.hist(true_pt, pt_bins, label=legend[1])\n",
    "    vals, bins, _ = ax.hist(reco_pt, pt_bins, label=legend[2])\n",
    "\n",
    "    ax.set_xlabel(xlabel, fontsize=fontsize)\n",
    "    ax.set_ylabel(ylabel, fontsize=fontsize)\n",
    "    ax.tick_params(axis='both', which='major', labelsize=15)\n",
    "    ax.tick_params(axis='both', which='minor', labelsize=12)\n",
    "    \n",
    "    add_up_xaxis(ax)\n",
    "    ax.legend(loc='upper right', fontsize=16)\n",
    "    ax.grid(False)\n",
    "    fig.savefig(\"{}.pdf\".format(outname))\n",
    "    \n",
    "    # Add x and y labels\n",
    "    ax.set_xlabel('$p_t [GeV]$', fontsize=20)\n",
    "    ax.set_ylabel('Particles', fontsize=20)\n",
    "    ax.tick_params(axis='both', which='major', labelsize=15)\n",
    "    ax.tick_params(axis='both', which='minor', labelsize=12)\n",
    "    # ax.set_xlim(0, 0.6)\n",
    "    # ax.set_ylim(0, 1.5)\n",
    "    # ax.legend(fontsize=20, loc='best')\n",
    "    ax.grid(False)\n",
    "    fig.tight_layout()\n",
    "    # fig.savefig(\"test_particles.pdf\")"
   ]
  },
  {
   "cell_type": "code",
   "execution_count": 77,
   "metadata": {},
   "outputs": [],
   "source": [
    "# plot_particles(df)"
   ]
  },
  {
   "cell_type": "code",
   "execution_count": 78,
   "metadata": {},
   "outputs": [],
   "source": [
    "# fig, ax = plt.subplots(figsize=(8,6))\n",
    "# ax.hist(pphi)"
   ]
  },
  {
   "cell_type": "code",
   "execution_count": 79,
   "metadata": {},
   "outputs": [],
   "source": [
    "store.close()"
   ]
  },
  {
   "cell_type": "code",
   "execution_count": null,
   "metadata": {},
   "outputs": [],
   "source": []
  }
 ],
 "metadata": {
  "colab": {
   "collapsed_sections": [],
   "name": "WalkThroughGNN4Tracking.ipynb",
   "provenance": []
  },
  "kernelspec": {
   "display_name": "ExaTrkX-CPU",
   "language": "python",
   "name": "python3"
  },
  "language_info": {
   "codemirror_mode": {
    "name": "ipython",
    "version": 3
   },
   "file_extension": ".py",
   "mimetype": "text/x-python",
   "name": "python",
   "nbconvert_exporter": "python",
   "pygments_lexer": "ipython3",
   "version": "3.8.12"
  },
  "widgets": {
   "application/vnd.jupyter.widget-state+json": {
    "05dda350689a4e0cba0dbdff036e907f": {
     "model_module": "@jupyter-widgets/base",
     "model_name": "LayoutModel",
     "state": {
      "_model_module": "@jupyter-widgets/base",
      "_model_module_version": "1.2.0",
      "_model_name": "LayoutModel",
      "_view_count": null,
      "_view_module": "@jupyter-widgets/base",
      "_view_module_version": "1.2.0",
      "_view_name": "LayoutView",
      "align_content": null,
      "align_items": null,
      "align_self": null,
      "border": null,
      "bottom": null,
      "display": null,
      "flex": null,
      "flex_flow": null,
      "grid_area": null,
      "grid_auto_columns": null,
      "grid_auto_flow": null,
      "grid_auto_rows": null,
      "grid_column": null,
      "grid_gap": null,
      "grid_row": null,
      "grid_template_areas": null,
      "grid_template_columns": null,
      "grid_template_rows": null,
      "height": null,
      "justify_content": null,
      "justify_items": null,
      "left": null,
      "margin": null,
      "max_height": null,
      "max_width": null,
      "min_height": null,
      "min_width": null,
      "object_fit": null,
      "object_position": null,
      "order": null,
      "overflow": null,
      "overflow_x": null,
      "overflow_y": null,
      "padding": null,
      "right": null,
      "top": null,
      "visibility": null,
      "width": null
     }
    },
    "0b6439920ba7446a90b0da08a0edf046": {
     "model_module": "@jupyter-widgets/controls",
     "model_name": "DescriptionStyleModel",
     "state": {
      "_model_module": "@jupyter-widgets/controls",
      "_model_module_version": "1.5.0",
      "_model_name": "DescriptionStyleModel",
      "_view_count": null,
      "_view_module": "@jupyter-widgets/base",
      "_view_module_version": "1.2.0",
      "_view_name": "StyleView",
      "description_width": ""
     }
    },
    "0b9e9ef4614c4b85bbce33f3c1cb0844": {
     "model_module": "@jupyter-widgets/base",
     "model_name": "LayoutModel",
     "state": {
      "_model_module": "@jupyter-widgets/base",
      "_model_module_version": "1.2.0",
      "_model_name": "LayoutModel",
      "_view_count": null,
      "_view_module": "@jupyter-widgets/base",
      "_view_module_version": "1.2.0",
      "_view_name": "LayoutView",
      "align_content": null,
      "align_items": null,
      "align_self": null,
      "border": null,
      "bottom": null,
      "display": null,
      "flex": "2",
      "flex_flow": null,
      "grid_area": null,
      "grid_auto_columns": null,
      "grid_auto_flow": null,
      "grid_auto_rows": null,
      "grid_column": null,
      "grid_gap": null,
      "grid_row": null,
      "grid_template_areas": null,
      "grid_template_columns": null,
      "grid_template_rows": null,
      "height": null,
      "justify_content": null,
      "justify_items": null,
      "left": null,
      "margin": null,
      "max_height": null,
      "max_width": null,
      "min_height": null,
      "min_width": null,
      "object_fit": null,
      "object_position": null,
      "order": null,
      "overflow": null,
      "overflow_x": null,
      "overflow_y": null,
      "padding": null,
      "right": null,
      "top": null,
      "visibility": null,
      "width": null
     }
    },
    "19efe0ba3cf34a85becc1867d1299bbb": {
     "model_module": "@jupyter-widgets/controls",
     "model_name": "ProgressStyleModel",
     "state": {
      "_model_module": "@jupyter-widgets/controls",
      "_model_module_version": "1.5.0",
      "_model_name": "ProgressStyleModel",
      "_view_count": null,
      "_view_module": "@jupyter-widgets/base",
      "_view_module_version": "1.2.0",
      "_view_name": "StyleView",
      "bar_color": null,
      "description_width": "initial"
     }
    },
    "1c05afbd962f41c7802e475bcb67b1cc": {
     "model_module": "@jupyter-widgets/base",
     "model_name": "LayoutModel",
     "state": {
      "_model_module": "@jupyter-widgets/base",
      "_model_module_version": "1.2.0",
      "_model_name": "LayoutModel",
      "_view_count": null,
      "_view_module": "@jupyter-widgets/base",
      "_view_module_version": "1.2.0",
      "_view_name": "LayoutView",
      "align_content": null,
      "align_items": null,
      "align_self": null,
      "border": null,
      "bottom": null,
      "display": null,
      "flex": "2",
      "flex_flow": null,
      "grid_area": null,
      "grid_auto_columns": null,
      "grid_auto_flow": null,
      "grid_auto_rows": null,
      "grid_column": null,
      "grid_gap": null,
      "grid_row": null,
      "grid_template_areas": null,
      "grid_template_columns": null,
      "grid_template_rows": null,
      "height": null,
      "justify_content": null,
      "justify_items": null,
      "left": null,
      "margin": null,
      "max_height": null,
      "max_width": null,
      "min_height": null,
      "min_width": null,
      "object_fit": null,
      "object_position": null,
      "order": null,
      "overflow": null,
      "overflow_x": null,
      "overflow_y": null,
      "padding": null,
      "right": null,
      "top": null,
      "visibility": null,
      "width": null
     }
    },
    "1c89a8f8631b4d4f9b139e8838b98ba8": {
     "model_module": "@jupyter-widgets/controls",
     "model_name": "HTMLModel",
     "state": {
      "_dom_classes": [],
      "_model_module": "@jupyter-widgets/controls",
      "_model_module_version": "1.5.0",
      "_model_name": "HTMLModel",
      "_view_count": null,
      "_view_module": "@jupyter-widgets/controls",
      "_view_module_version": "1.5.0",
      "_view_name": "HTMLView",
      "description": "",
      "description_tooltip": null,
      "layout": "IPY_MODEL_3042711720aa4be48589759b63c0f293",
      "placeholder": "​",
      "style": "IPY_MODEL_d3ca03e2f0ae42799cd67fc9a43d47ae",
      "value": " 2/2 [03:28&lt;00:00, 104.18s/it, loss=1.182, v_num=1, train_loss=1.17, val_loss=0.697, val_eff=0.554, val_pur=0.00927]"
     }
    },
    "2262d445a8594280b7fa6ab2e851b194": {
     "model_module": "@jupyter-widgets/base",
     "model_name": "LayoutModel",
     "state": {
      "_model_module": "@jupyter-widgets/base",
      "_model_module_version": "1.2.0",
      "_model_name": "LayoutModel",
      "_view_count": null,
      "_view_module": "@jupyter-widgets/base",
      "_view_module_version": "1.2.0",
      "_view_name": "LayoutView",
      "align_content": null,
      "align_items": null,
      "align_self": null,
      "border": null,
      "bottom": null,
      "display": "inline-flex",
      "flex": null,
      "flex_flow": "row wrap",
      "grid_area": null,
      "grid_auto_columns": null,
      "grid_auto_flow": null,
      "grid_auto_rows": null,
      "grid_column": null,
      "grid_gap": null,
      "grid_row": null,
      "grid_template_areas": null,
      "grid_template_columns": null,
      "grid_template_rows": null,
      "height": null,
      "justify_content": null,
      "justify_items": null,
      "left": null,
      "margin": null,
      "max_height": null,
      "max_width": null,
      "min_height": null,
      "min_width": null,
      "object_fit": null,
      "object_position": null,
      "order": null,
      "overflow": null,
      "overflow_x": null,
      "overflow_y": null,
      "padding": null,
      "right": null,
      "top": null,
      "visibility": null,
      "width": "100%"
     }
    },
    "2aeabdb8abfb40b39a82dddd641318e4": {
     "model_module": "@jupyter-widgets/base",
     "model_name": "LayoutModel",
     "state": {
      "_model_module": "@jupyter-widgets/base",
      "_model_module_version": "1.2.0",
      "_model_name": "LayoutModel",
      "_view_count": null,
      "_view_module": "@jupyter-widgets/base",
      "_view_module_version": "1.2.0",
      "_view_name": "LayoutView",
      "align_content": null,
      "align_items": null,
      "align_self": null,
      "border": null,
      "bottom": null,
      "display": "inline-flex",
      "flex": null,
      "flex_flow": "row wrap",
      "grid_area": null,
      "grid_auto_columns": null,
      "grid_auto_flow": null,
      "grid_auto_rows": null,
      "grid_column": null,
      "grid_gap": null,
      "grid_row": null,
      "grid_template_areas": null,
      "grid_template_columns": null,
      "grid_template_rows": null,
      "height": null,
      "justify_content": null,
      "justify_items": null,
      "left": null,
      "margin": null,
      "max_height": null,
      "max_width": null,
      "min_height": null,
      "min_width": null,
      "object_fit": null,
      "object_position": null,
      "order": null,
      "overflow": null,
      "overflow_x": null,
      "overflow_y": null,
      "padding": null,
      "right": null,
      "top": null,
      "visibility": null,
      "width": "100%"
     }
    },
    "2d5743ed68f24700951417f49c4dda47": {
     "model_module": "@jupyter-widgets/controls",
     "model_name": "HTMLModel",
     "state": {
      "_dom_classes": [],
      "_model_module": "@jupyter-widgets/controls",
      "_model_module_version": "1.5.0",
      "_model_name": "HTMLModel",
      "_view_count": null,
      "_view_module": "@jupyter-widgets/controls",
      "_view_module_version": "1.5.0",
      "_view_name": "HTMLView",
      "description": "",
      "description_tooltip": null,
      "layout": "IPY_MODEL_e39f057c5dd44ef2a33e60c85ea942f6",
      "placeholder": "​",
      "style": "IPY_MODEL_57ad7a0194ba491eafd086b22da58b3e",
      "value": " 1/1 [00:01&lt;00:00,  1.52s/it]"
     }
    },
    "3003297e18a54a30b54f5ee3eb526fc3": {
     "model_module": "@jupyter-widgets/controls",
     "model_name": "DescriptionStyleModel",
     "state": {
      "_model_module": "@jupyter-widgets/controls",
      "_model_module_version": "1.5.0",
      "_model_name": "DescriptionStyleModel",
      "_view_count": null,
      "_view_module": "@jupyter-widgets/base",
      "_view_module_version": "1.2.0",
      "_view_name": "StyleView",
      "description_width": ""
     }
    },
    "3042711720aa4be48589759b63c0f293": {
     "model_module": "@jupyter-widgets/base",
     "model_name": "LayoutModel",
     "state": {
      "_model_module": "@jupyter-widgets/base",
      "_model_module_version": "1.2.0",
      "_model_name": "LayoutModel",
      "_view_count": null,
      "_view_module": "@jupyter-widgets/base",
      "_view_module_version": "1.2.0",
      "_view_name": "LayoutView",
      "align_content": null,
      "align_items": null,
      "align_self": null,
      "border": null,
      "bottom": null,
      "display": null,
      "flex": null,
      "flex_flow": null,
      "grid_area": null,
      "grid_auto_columns": null,
      "grid_auto_flow": null,
      "grid_auto_rows": null,
      "grid_column": null,
      "grid_gap": null,
      "grid_row": null,
      "grid_template_areas": null,
      "grid_template_columns": null,
      "grid_template_rows": null,
      "height": null,
      "justify_content": null,
      "justify_items": null,
      "left": null,
      "margin": null,
      "max_height": null,
      "max_width": null,
      "min_height": null,
      "min_width": null,
      "object_fit": null,
      "object_position": null,
      "order": null,
      "overflow": null,
      "overflow_x": null,
      "overflow_y": null,
      "padding": null,
      "right": null,
      "top": null,
      "visibility": null,
      "width": null
     }
    },
    "30463987ebdd487185651d5a9e513128": {
     "model_module": "@jupyter-widgets/controls",
     "model_name": "HTMLModel",
     "state": {
      "_dom_classes": [],
      "_model_module": "@jupyter-widgets/controls",
      "_model_module_version": "1.5.0",
      "_model_name": "HTMLModel",
      "_view_count": null,
      "_view_module": "@jupyter-widgets/controls",
      "_view_module_version": "1.5.0",
      "_view_name": "HTMLView",
      "description": "",
      "description_tooltip": null,
      "layout": "IPY_MODEL_8683d7fe14f640ac959da423bab81db6",
      "placeholder": "​",
      "style": "IPY_MODEL_c22a38f24c6c4a8eb7da40d0d353dd5b",
      "value": " 1/1 [00:06&lt;00:00,  5.92s/it]"
     }
    },
    "30fb255df60840829b13ab6a7bb27536": {
     "model_module": "@jupyter-widgets/base",
     "model_name": "LayoutModel",
     "state": {
      "_model_module": "@jupyter-widgets/base",
      "_model_module_version": "1.2.0",
      "_model_name": "LayoutModel",
      "_view_count": null,
      "_view_module": "@jupyter-widgets/base",
      "_view_module_version": "1.2.0",
      "_view_name": "LayoutView",
      "align_content": null,
      "align_items": null,
      "align_self": null,
      "border": null,
      "bottom": null,
      "display": null,
      "flex": "2",
      "flex_flow": null,
      "grid_area": null,
      "grid_auto_columns": null,
      "grid_auto_flow": null,
      "grid_auto_rows": null,
      "grid_column": null,
      "grid_gap": null,
      "grid_row": null,
      "grid_template_areas": null,
      "grid_template_columns": null,
      "grid_template_rows": null,
      "height": null,
      "justify_content": null,
      "justify_items": null,
      "left": null,
      "margin": null,
      "max_height": null,
      "max_width": null,
      "min_height": null,
      "min_width": null,
      "object_fit": null,
      "object_position": null,
      "order": null,
      "overflow": null,
      "overflow_x": null,
      "overflow_y": null,
      "padding": null,
      "right": null,
      "top": null,
      "visibility": null,
      "width": null
     }
    },
    "3af102ccecd14ca894a30a8a2d523a40": {
     "model_module": "@jupyter-widgets/base",
     "model_name": "LayoutModel",
     "state": {
      "_model_module": "@jupyter-widgets/base",
      "_model_module_version": "1.2.0",
      "_model_name": "LayoutModel",
      "_view_count": null,
      "_view_module": "@jupyter-widgets/base",
      "_view_module_version": "1.2.0",
      "_view_name": "LayoutView",
      "align_content": null,
      "align_items": null,
      "align_self": null,
      "border": null,
      "bottom": null,
      "display": null,
      "flex": "2",
      "flex_flow": null,
      "grid_area": null,
      "grid_auto_columns": null,
      "grid_auto_flow": null,
      "grid_auto_rows": null,
      "grid_column": null,
      "grid_gap": null,
      "grid_row": null,
      "grid_template_areas": null,
      "grid_template_columns": null,
      "grid_template_rows": null,
      "height": null,
      "justify_content": null,
      "justify_items": null,
      "left": null,
      "margin": null,
      "max_height": null,
      "max_width": null,
      "min_height": null,
      "min_width": null,
      "object_fit": null,
      "object_position": null,
      "order": null,
      "overflow": null,
      "overflow_x": null,
      "overflow_y": null,
      "padding": null,
      "right": null,
      "top": null,
      "visibility": null,
      "width": null
     }
    },
    "4913594a91a0431580b8200d1f61b4b0": {
     "model_module": "@jupyter-widgets/controls",
     "model_name": "HBoxModel",
     "state": {
      "_dom_classes": [],
      "_model_module": "@jupyter-widgets/controls",
      "_model_module_version": "1.5.0",
      "_model_name": "HBoxModel",
      "_view_count": null,
      "_view_module": "@jupyter-widgets/controls",
      "_view_module_version": "1.5.0",
      "_view_name": "HBoxView",
      "box_style": "",
      "children": [
       "IPY_MODEL_de48527c13fe4b959eae9ce31caca633",
       "IPY_MODEL_a9da56f04cb34272a199a2703e7c410e"
      ],
      "layout": "IPY_MODEL_5037bff6409c4a5492e5ba91564f2681"
     }
    },
    "49b5388398ba4e86b23d0a2f589fa57f": {
     "model_module": "@jupyter-widgets/controls",
     "model_name": "FloatProgressModel",
     "state": {
      "_dom_classes": [],
      "_model_module": "@jupyter-widgets/controls",
      "_model_module_version": "1.5.0",
      "_model_name": "FloatProgressModel",
      "_view_count": null,
      "_view_module": "@jupyter-widgets/controls",
      "_view_module_version": "1.5.0",
      "_view_name": "ProgressView",
      "bar_style": "info",
      "description": "Validation sanity check: 100%",
      "description_tooltip": null,
      "layout": "IPY_MODEL_0b9e9ef4614c4b85bbce33f3c1cb0844",
      "max": 1,
      "min": 0,
      "orientation": "horizontal",
      "style": "IPY_MODEL_7e497035705a4c92bee4f36820636c17",
      "value": 1
     }
    },
    "5037bff6409c4a5492e5ba91564f2681": {
     "model_module": "@jupyter-widgets/base",
     "model_name": "LayoutModel",
     "state": {
      "_model_module": "@jupyter-widgets/base",
      "_model_module_version": "1.2.0",
      "_model_name": "LayoutModel",
      "_view_count": null,
      "_view_module": "@jupyter-widgets/base",
      "_view_module_version": "1.2.0",
      "_view_name": "LayoutView",
      "align_content": null,
      "align_items": null,
      "align_self": null,
      "border": null,
      "bottom": null,
      "display": "inline-flex",
      "flex": null,
      "flex_flow": "row wrap",
      "grid_area": null,
      "grid_auto_columns": null,
      "grid_auto_flow": null,
      "grid_auto_rows": null,
      "grid_column": null,
      "grid_gap": null,
      "grid_row": null,
      "grid_template_areas": null,
      "grid_template_columns": null,
      "grid_template_rows": null,
      "height": null,
      "justify_content": null,
      "justify_items": null,
      "left": null,
      "margin": null,
      "max_height": null,
      "max_width": null,
      "min_height": null,
      "min_width": null,
      "object_fit": null,
      "object_position": null,
      "order": null,
      "overflow": null,
      "overflow_x": null,
      "overflow_y": null,
      "padding": null,
      "right": null,
      "top": null,
      "visibility": null,
      "width": "100%"
     }
    },
    "53a699d3e609459887c880f897cc4fec": {
     "model_module": "@jupyter-widgets/controls",
     "model_name": "FloatProgressModel",
     "state": {
      "_dom_classes": [],
      "_model_module": "@jupyter-widgets/controls",
      "_model_module_version": "1.5.0",
      "_model_name": "FloatProgressModel",
      "_view_count": null,
      "_view_module": "@jupyter-widgets/controls",
      "_view_module_version": "1.5.0",
      "_view_name": "ProgressView",
      "bar_style": "info",
      "description": "Validation sanity check: 100%",
      "description_tooltip": null,
      "layout": "IPY_MODEL_30fb255df60840829b13ab6a7bb27536",
      "max": 1,
      "min": 0,
      "orientation": "horizontal",
      "style": "IPY_MODEL_19efe0ba3cf34a85becc1867d1299bbb",
      "value": 1
     }
    },
    "57ad7a0194ba491eafd086b22da58b3e": {
     "model_module": "@jupyter-widgets/controls",
     "model_name": "DescriptionStyleModel",
     "state": {
      "_model_module": "@jupyter-widgets/controls",
      "_model_module_version": "1.5.0",
      "_model_name": "DescriptionStyleModel",
      "_view_count": null,
      "_view_module": "@jupyter-widgets/base",
      "_view_module_version": "1.2.0",
      "_view_name": "StyleView",
      "description_width": ""
     }
    },
    "5cffdd65a1e044d1ab1b40a1fbb1fe03": {
     "model_module": "@jupyter-widgets/controls",
     "model_name": "HBoxModel",
     "state": {
      "_dom_classes": [],
      "_model_module": "@jupyter-widgets/controls",
      "_model_module_version": "1.5.0",
      "_model_name": "HBoxModel",
      "_view_count": null,
      "_view_module": "@jupyter-widgets/controls",
      "_view_module_version": "1.5.0",
      "_view_name": "HBoxView",
      "box_style": "",
      "children": [
       "IPY_MODEL_95564cb1bb944c7da935a3678f67e348",
       "IPY_MODEL_1c89a8f8631b4d4f9b139e8838b98ba8"
      ],
      "layout": "IPY_MODEL_e788c79484e14d418a308e9ba8621a47"
     }
    },
    "6ac706d74367472cb9de3d464df3867a": {
     "model_module": "@jupyter-widgets/base",
     "model_name": "LayoutModel",
     "state": {
      "_model_module": "@jupyter-widgets/base",
      "_model_module_version": "1.2.0",
      "_model_name": "LayoutModel",
      "_view_count": null,
      "_view_module": "@jupyter-widgets/base",
      "_view_module_version": "1.2.0",
      "_view_name": "LayoutView",
      "align_content": null,
      "align_items": null,
      "align_self": null,
      "border": null,
      "bottom": null,
      "display": null,
      "flex": null,
      "flex_flow": null,
      "grid_area": null,
      "grid_auto_columns": null,
      "grid_auto_flow": null,
      "grid_auto_rows": null,
      "grid_column": null,
      "grid_gap": null,
      "grid_row": null,
      "grid_template_areas": null,
      "grid_template_columns": null,
      "grid_template_rows": null,
      "height": null,
      "justify_content": null,
      "justify_items": null,
      "left": null,
      "margin": null,
      "max_height": null,
      "max_width": null,
      "min_height": null,
      "min_width": null,
      "object_fit": null,
      "object_position": null,
      "order": null,
      "overflow": null,
      "overflow_x": null,
      "overflow_y": null,
      "padding": null,
      "right": null,
      "top": null,
      "visibility": null,
      "width": null
     }
    },
    "6cba1d955d844a42ace3252f1758876e": {
     "model_module": "@jupyter-widgets/controls",
     "model_name": "ProgressStyleModel",
     "state": {
      "_model_module": "@jupyter-widgets/controls",
      "_model_module_version": "1.5.0",
      "_model_name": "ProgressStyleModel",
      "_view_count": null,
      "_view_module": "@jupyter-widgets/base",
      "_view_module_version": "1.2.0",
      "_view_name": "StyleView",
      "bar_color": null,
      "description_width": "initial"
     }
    },
    "6e9a9406cf8e4ba3b5657ca5fff782ac": {
     "model_module": "@jupyter-widgets/controls",
     "model_name": "FloatProgressModel",
     "state": {
      "_dom_classes": [],
      "_model_module": "@jupyter-widgets/controls",
      "_model_module_version": "1.5.0",
      "_model_name": "FloatProgressModel",
      "_view_count": null,
      "_view_module": "@jupyter-widgets/controls",
      "_view_module_version": "1.5.0",
      "_view_name": "ProgressView",
      "bar_style": "info",
      "description": "Validating: 100%",
      "description_tooltip": null,
      "layout": "IPY_MODEL_d71f11fcaff3408b8665f0c972a0f489",
      "max": 1,
      "min": 0,
      "orientation": "horizontal",
      "style": "IPY_MODEL_8e585c49a2784d7da7b95ac1388bf939",
      "value": 1
     }
    },
    "740708443b8e41b4991059143f710d8b": {
     "model_module": "@jupyter-widgets/base",
     "model_name": "LayoutModel",
     "state": {
      "_model_module": "@jupyter-widgets/base",
      "_model_module_version": "1.2.0",
      "_model_name": "LayoutModel",
      "_view_count": null,
      "_view_module": "@jupyter-widgets/base",
      "_view_module_version": "1.2.0",
      "_view_name": "LayoutView",
      "align_content": null,
      "align_items": null,
      "align_self": null,
      "border": null,
      "bottom": null,
      "display": null,
      "flex": null,
      "flex_flow": null,
      "grid_area": null,
      "grid_auto_columns": null,
      "grid_auto_flow": null,
      "grid_auto_rows": null,
      "grid_column": null,
      "grid_gap": null,
      "grid_row": null,
      "grid_template_areas": null,
      "grid_template_columns": null,
      "grid_template_rows": null,
      "height": null,
      "justify_content": null,
      "justify_items": null,
      "left": null,
      "margin": null,
      "max_height": null,
      "max_width": null,
      "min_height": null,
      "min_width": null,
      "object_fit": null,
      "object_position": null,
      "order": null,
      "overflow": null,
      "overflow_x": null,
      "overflow_y": null,
      "padding": null,
      "right": null,
      "top": null,
      "visibility": null,
      "width": null
     }
    },
    "77194c6abd894500a39e4ecd6c7ff895": {
     "model_module": "@jupyter-widgets/controls",
     "model_name": "DescriptionStyleModel",
     "state": {
      "_model_module": "@jupyter-widgets/controls",
      "_model_module_version": "1.5.0",
      "_model_name": "DescriptionStyleModel",
      "_view_count": null,
      "_view_module": "@jupyter-widgets/base",
      "_view_module_version": "1.2.0",
      "_view_name": "StyleView",
      "description_width": ""
     }
    },
    "7e497035705a4c92bee4f36820636c17": {
     "model_module": "@jupyter-widgets/controls",
     "model_name": "ProgressStyleModel",
     "state": {
      "_model_module": "@jupyter-widgets/controls",
      "_model_module_version": "1.5.0",
      "_model_name": "ProgressStyleModel",
      "_view_count": null,
      "_view_module": "@jupyter-widgets/base",
      "_view_module_version": "1.2.0",
      "_view_name": "StyleView",
      "bar_color": null,
      "description_width": "initial"
     }
    },
    "7ee7859a0ef4408b93bf1bb990252e38": {
     "model_module": "@jupyter-widgets/controls",
     "model_name": "HTMLModel",
     "state": {
      "_dom_classes": [],
      "_model_module": "@jupyter-widgets/controls",
      "_model_module_version": "1.5.0",
      "_model_name": "HTMLModel",
      "_view_count": null,
      "_view_module": "@jupyter-widgets/controls",
      "_view_module_version": "1.5.0",
      "_view_name": "HTMLView",
      "description": "",
      "description_tooltip": null,
      "layout": "IPY_MODEL_740708443b8e41b4991059143f710d8b",
      "placeholder": "​",
      "style": "IPY_MODEL_0b6439920ba7446a90b0da08a0edf046",
      "value": " 1/1 [00:05&lt;00:00,  5.91s/it]"
     }
    },
    "8683d7fe14f640ac959da423bab81db6": {
     "model_module": "@jupyter-widgets/base",
     "model_name": "LayoutModel",
     "state": {
      "_model_module": "@jupyter-widgets/base",
      "_model_module_version": "1.2.0",
      "_model_name": "LayoutModel",
      "_view_count": null,
      "_view_module": "@jupyter-widgets/base",
      "_view_module_version": "1.2.0",
      "_view_name": "LayoutView",
      "align_content": null,
      "align_items": null,
      "align_self": null,
      "border": null,
      "bottom": null,
      "display": null,
      "flex": null,
      "flex_flow": null,
      "grid_area": null,
      "grid_auto_columns": null,
      "grid_auto_flow": null,
      "grid_auto_rows": null,
      "grid_column": null,
      "grid_gap": null,
      "grid_row": null,
      "grid_template_areas": null,
      "grid_template_columns": null,
      "grid_template_rows": null,
      "height": null,
      "justify_content": null,
      "justify_items": null,
      "left": null,
      "margin": null,
      "max_height": null,
      "max_width": null,
      "min_height": null,
      "min_width": null,
      "object_fit": null,
      "object_position": null,
      "order": null,
      "overflow": null,
      "overflow_x": null,
      "overflow_y": null,
      "padding": null,
      "right": null,
      "top": null,
      "visibility": null,
      "width": null
     }
    },
    "869fb51b82c74fb6ad5f4b8a3de119fa": {
     "model_module": "@jupyter-widgets/controls",
     "model_name": "HBoxModel",
     "state": {
      "_dom_classes": [],
      "_model_module": "@jupyter-widgets/controls",
      "_model_module_version": "1.5.0",
      "_model_name": "HBoxModel",
      "_view_count": null,
      "_view_module": "@jupyter-widgets/controls",
      "_view_module_version": "1.5.0",
      "_view_name": "HBoxView",
      "box_style": "",
      "children": [
       "IPY_MODEL_49b5388398ba4e86b23d0a2f589fa57f",
       "IPY_MODEL_2d5743ed68f24700951417f49c4dda47"
      ],
      "layout": "IPY_MODEL_2262d445a8594280b7fa6ab2e851b194"
     }
    },
    "8e585c49a2784d7da7b95ac1388bf939": {
     "model_module": "@jupyter-widgets/controls",
     "model_name": "ProgressStyleModel",
     "state": {
      "_model_module": "@jupyter-widgets/controls",
      "_model_module_version": "1.5.0",
      "_model_name": "ProgressStyleModel",
      "_view_count": null,
      "_view_module": "@jupyter-widgets/base",
      "_view_module_version": "1.2.0",
      "_view_name": "StyleView",
      "bar_color": null,
      "description_width": "initial"
     }
    },
    "8f082f43bae647a8b854327ebd65a93e": {
     "model_module": "@jupyter-widgets/controls",
     "model_name": "HTMLModel",
     "state": {
      "_dom_classes": [],
      "_model_module": "@jupyter-widgets/controls",
      "_model_module_version": "1.5.0",
      "_model_name": "HTMLModel",
      "_view_count": null,
      "_view_module": "@jupyter-widgets/controls",
      "_view_module_version": "1.5.0",
      "_view_name": "HTMLView",
      "description": "",
      "description_tooltip": null,
      "layout": "IPY_MODEL_6ac706d74367472cb9de3d464df3867a",
      "placeholder": "​",
      "style": "IPY_MODEL_c5ef278701394729a1b0b92aabb30bf8",
      "value": " 1/1 [00:01&lt;00:00,  1.34s/it]"
     }
    },
    "915c28ae638c4fbdb38ac4884a160185": {
     "model_module": "@jupyter-widgets/base",
     "model_name": "LayoutModel",
     "state": {
      "_model_module": "@jupyter-widgets/base",
      "_model_module_version": "1.2.0",
      "_model_name": "LayoutModel",
      "_view_count": null,
      "_view_module": "@jupyter-widgets/base",
      "_view_module_version": "1.2.0",
      "_view_name": "LayoutView",
      "align_content": null,
      "align_items": null,
      "align_self": null,
      "border": null,
      "bottom": null,
      "display": "inline-flex",
      "flex": null,
      "flex_flow": "row wrap",
      "grid_area": null,
      "grid_auto_columns": null,
      "grid_auto_flow": null,
      "grid_auto_rows": null,
      "grid_column": null,
      "grid_gap": null,
      "grid_row": null,
      "grid_template_areas": null,
      "grid_template_columns": null,
      "grid_template_rows": null,
      "height": null,
      "justify_content": null,
      "justify_items": null,
      "left": null,
      "margin": null,
      "max_height": null,
      "max_width": null,
      "min_height": null,
      "min_width": null,
      "object_fit": null,
      "object_position": null,
      "order": null,
      "overflow": null,
      "overflow_x": null,
      "overflow_y": null,
      "padding": null,
      "right": null,
      "top": null,
      "visibility": null,
      "width": "100%"
     }
    },
    "95564cb1bb944c7da935a3678f67e348": {
     "model_module": "@jupyter-widgets/controls",
     "model_name": "FloatProgressModel",
     "state": {
      "_dom_classes": [],
      "_model_module": "@jupyter-widgets/controls",
      "_model_module_version": "1.5.0",
      "_model_name": "FloatProgressModel",
      "_view_count": null,
      "_view_module": "@jupyter-widgets/controls",
      "_view_module_version": "1.5.0",
      "_view_name": "ProgressView",
      "bar_style": "success",
      "description": "Epoch 1: 100%",
      "description_tooltip": null,
      "layout": "IPY_MODEL_a8723fe6f9214b6eb32daa2bb2820145",
      "max": 2,
      "min": 0,
      "orientation": "horizontal",
      "style": "IPY_MODEL_a589cdc8ca414003b42cf9051f8b1e48",
      "value": 2
     }
    },
    "a46d60b90cf04913b3f18f1533b4aca3": {
     "model_module": "@jupyter-widgets/controls",
     "model_name": "FloatProgressModel",
     "state": {
      "_dom_classes": [],
      "_model_module": "@jupyter-widgets/controls",
      "_model_module_version": "1.5.0",
      "_model_name": "FloatProgressModel",
      "_view_count": null,
      "_view_module": "@jupyter-widgets/controls",
      "_view_module_version": "1.5.0",
      "_view_name": "ProgressView",
      "bar_style": "info",
      "description": "Validating: 100%",
      "description_tooltip": null,
      "layout": "IPY_MODEL_b1b3be1894514f38ac31011672e6b510",
      "max": 1,
      "min": 0,
      "orientation": "horizontal",
      "style": "IPY_MODEL_e8eed605897042a8951e80635704fcff",
      "value": 1
     }
    },
    "a5062bdd93524e5c8b34ffee36af1742": {
     "model_module": "@jupyter-widgets/controls",
     "model_name": "FloatProgressModel",
     "state": {
      "_dom_classes": [],
      "_model_module": "@jupyter-widgets/controls",
      "_model_module_version": "1.5.0",
      "_model_name": "FloatProgressModel",
      "_view_count": null,
      "_view_module": "@jupyter-widgets/controls",
      "_view_module_version": "1.5.0",
      "_view_name": "ProgressView",
      "bar_style": "info",
      "description": "Validating: 100%",
      "description_tooltip": null,
      "layout": "IPY_MODEL_f9b719c1a70746a99a2ab0f437c98a40",
      "max": 1,
      "min": 0,
      "orientation": "horizontal",
      "style": "IPY_MODEL_a8bb64119e10442283448f56183bb6d0",
      "value": 1
     }
    },
    "a589cdc8ca414003b42cf9051f8b1e48": {
     "model_module": "@jupyter-widgets/controls",
     "model_name": "ProgressStyleModel",
     "state": {
      "_model_module": "@jupyter-widgets/controls",
      "_model_module_version": "1.5.0",
      "_model_name": "ProgressStyleModel",
      "_view_count": null,
      "_view_module": "@jupyter-widgets/base",
      "_view_module_version": "1.2.0",
      "_view_name": "StyleView",
      "bar_color": null,
      "description_width": "initial"
     }
    },
    "a810b6f9d8644836b950369a6b286e3b": {
     "model_module": "@jupyter-widgets/controls",
     "model_name": "FloatProgressModel",
     "state": {
      "_dom_classes": [],
      "_model_module": "@jupyter-widgets/controls",
      "_model_module_version": "1.5.0",
      "_model_name": "FloatProgressModel",
      "_view_count": null,
      "_view_module": "@jupyter-widgets/controls",
      "_view_module_version": "1.5.0",
      "_view_name": "ProgressView",
      "bar_style": "info",
      "description": "Validating: 100%",
      "description_tooltip": null,
      "layout": "IPY_MODEL_3af102ccecd14ca894a30a8a2d523a40",
      "max": 1,
      "min": 0,
      "orientation": "horizontal",
      "style": "IPY_MODEL_bb93ff5a8f4b4e77bbc12b145598e1a2",
      "value": 1
     }
    },
    "a8723fe6f9214b6eb32daa2bb2820145": {
     "model_module": "@jupyter-widgets/base",
     "model_name": "LayoutModel",
     "state": {
      "_model_module": "@jupyter-widgets/base",
      "_model_module_version": "1.2.0",
      "_model_name": "LayoutModel",
      "_view_count": null,
      "_view_module": "@jupyter-widgets/base",
      "_view_module_version": "1.2.0",
      "_view_name": "LayoutView",
      "align_content": null,
      "align_items": null,
      "align_self": null,
      "border": null,
      "bottom": null,
      "display": null,
      "flex": "2",
      "flex_flow": null,
      "grid_area": null,
      "grid_auto_columns": null,
      "grid_auto_flow": null,
      "grid_auto_rows": null,
      "grid_column": null,
      "grid_gap": null,
      "grid_row": null,
      "grid_template_areas": null,
      "grid_template_columns": null,
      "grid_template_rows": null,
      "height": null,
      "justify_content": null,
      "justify_items": null,
      "left": null,
      "margin": null,
      "max_height": null,
      "max_width": null,
      "min_height": null,
      "min_width": null,
      "object_fit": null,
      "object_position": null,
      "order": null,
      "overflow": null,
      "overflow_x": null,
      "overflow_y": null,
      "padding": null,
      "right": null,
      "top": null,
      "visibility": null,
      "width": null
     }
    },
    "a8bb64119e10442283448f56183bb6d0": {
     "model_module": "@jupyter-widgets/controls",
     "model_name": "ProgressStyleModel",
     "state": {
      "_model_module": "@jupyter-widgets/controls",
      "_model_module_version": "1.5.0",
      "_model_name": "ProgressStyleModel",
      "_view_count": null,
      "_view_module": "@jupyter-widgets/base",
      "_view_module_version": "1.2.0",
      "_view_name": "StyleView",
      "bar_color": null,
      "description_width": "initial"
     }
    },
    "a9da56f04cb34272a199a2703e7c410e": {
     "model_module": "@jupyter-widgets/controls",
     "model_name": "HTMLModel",
     "state": {
      "_dom_classes": [],
      "_model_module": "@jupyter-widgets/controls",
      "_model_module_version": "1.5.0",
      "_model_name": "HTMLModel",
      "_view_count": null,
      "_view_module": "@jupyter-widgets/controls",
      "_view_module_version": "1.5.0",
      "_view_name": "HTMLView",
      "description": "",
      "description_tooltip": null,
      "layout": "IPY_MODEL_b634a4cb3b56495480f5d6dd681d3e4a",
      "placeholder": "​",
      "style": "IPY_MODEL_3003297e18a54a30b54f5ee3eb526fc3",
      "value": " 2/2 [00:06&lt;00:00,  3.29s/it, loss=0.721, v_num=0, train_loss=0.721, val_loss=0.991, val_eff=0.431, val_pur=0.00875]"
     }
    },
    "b1b3be1894514f38ac31011672e6b510": {
     "model_module": "@jupyter-widgets/base",
     "model_name": "LayoutModel",
     "state": {
      "_model_module": "@jupyter-widgets/base",
      "_model_module_version": "1.2.0",
      "_model_name": "LayoutModel",
      "_view_count": null,
      "_view_module": "@jupyter-widgets/base",
      "_view_module_version": "1.2.0",
      "_view_name": "LayoutView",
      "align_content": null,
      "align_items": null,
      "align_self": null,
      "border": null,
      "bottom": null,
      "display": null,
      "flex": "2",
      "flex_flow": null,
      "grid_area": null,
      "grid_auto_columns": null,
      "grid_auto_flow": null,
      "grid_auto_rows": null,
      "grid_column": null,
      "grid_gap": null,
      "grid_row": null,
      "grid_template_areas": null,
      "grid_template_columns": null,
      "grid_template_rows": null,
      "height": null,
      "justify_content": null,
      "justify_items": null,
      "left": null,
      "margin": null,
      "max_height": null,
      "max_width": null,
      "min_height": null,
      "min_width": null,
      "object_fit": null,
      "object_position": null,
      "order": null,
      "overflow": null,
      "overflow_x": null,
      "overflow_y": null,
      "padding": null,
      "right": null,
      "top": null,
      "visibility": null,
      "width": null
     }
    },
    "b634a4cb3b56495480f5d6dd681d3e4a": {
     "model_module": "@jupyter-widgets/base",
     "model_name": "LayoutModel",
     "state": {
      "_model_module": "@jupyter-widgets/base",
      "_model_module_version": "1.2.0",
      "_model_name": "LayoutModel",
      "_view_count": null,
      "_view_module": "@jupyter-widgets/base",
      "_view_module_version": "1.2.0",
      "_view_name": "LayoutView",
      "align_content": null,
      "align_items": null,
      "align_self": null,
      "border": null,
      "bottom": null,
      "display": null,
      "flex": null,
      "flex_flow": null,
      "grid_area": null,
      "grid_auto_columns": null,
      "grid_auto_flow": null,
      "grid_auto_rows": null,
      "grid_column": null,
      "grid_gap": null,
      "grid_row": null,
      "grid_template_areas": null,
      "grid_template_columns": null,
      "grid_template_rows": null,
      "height": null,
      "justify_content": null,
      "justify_items": null,
      "left": null,
      "margin": null,
      "max_height": null,
      "max_width": null,
      "min_height": null,
      "min_width": null,
      "object_fit": null,
      "object_position": null,
      "order": null,
      "overflow": null,
      "overflow_x": null,
      "overflow_y": null,
      "padding": null,
      "right": null,
      "top": null,
      "visibility": null,
      "width": null
     }
    },
    "b775c4c019e044ddb54c09808b18e880": {
     "model_module": "@jupyter-widgets/controls",
     "model_name": "HBoxModel",
     "state": {
      "_dom_classes": [],
      "_model_module": "@jupyter-widgets/controls",
      "_model_module_version": "1.5.0",
      "_model_name": "HBoxModel",
      "_view_count": null,
      "_view_module": "@jupyter-widgets/controls",
      "_view_module_version": "1.5.0",
      "_view_name": "HBoxView",
      "box_style": "",
      "children": [
       "IPY_MODEL_53a699d3e609459887c880f897cc4fec",
       "IPY_MODEL_7ee7859a0ef4408b93bf1bb990252e38"
      ],
      "layout": "IPY_MODEL_2aeabdb8abfb40b39a82dddd641318e4"
     }
    },
    "bae5823cc0b14517ac5b5bd7fcd1cc5e": {
     "model_module": "@jupyter-widgets/base",
     "model_name": "LayoutModel",
     "state": {
      "_model_module": "@jupyter-widgets/base",
      "_model_module_version": "1.2.0",
      "_model_name": "LayoutModel",
      "_view_count": null,
      "_view_module": "@jupyter-widgets/base",
      "_view_module_version": "1.2.0",
      "_view_name": "LayoutView",
      "align_content": null,
      "align_items": null,
      "align_self": null,
      "border": null,
      "bottom": null,
      "display": null,
      "flex": null,
      "flex_flow": null,
      "grid_area": null,
      "grid_auto_columns": null,
      "grid_auto_flow": null,
      "grid_auto_rows": null,
      "grid_column": null,
      "grid_gap": null,
      "grid_row": null,
      "grid_template_areas": null,
      "grid_template_columns": null,
      "grid_template_rows": null,
      "height": null,
      "justify_content": null,
      "justify_items": null,
      "left": null,
      "margin": null,
      "max_height": null,
      "max_width": null,
      "min_height": null,
      "min_width": null,
      "object_fit": null,
      "object_position": null,
      "order": null,
      "overflow": null,
      "overflow_x": null,
      "overflow_y": null,
      "padding": null,
      "right": null,
      "top": null,
      "visibility": null,
      "width": null
     }
    },
    "bb93ff5a8f4b4e77bbc12b145598e1a2": {
     "model_module": "@jupyter-widgets/controls",
     "model_name": "ProgressStyleModel",
     "state": {
      "_model_module": "@jupyter-widgets/controls",
      "_model_module_version": "1.5.0",
      "_model_name": "ProgressStyleModel",
      "_view_count": null,
      "_view_module": "@jupyter-widgets/base",
      "_view_module_version": "1.2.0",
      "_view_name": "StyleView",
      "bar_color": null,
      "description_width": "initial"
     }
    },
    "bbfa65338fe14c1e8c498288b123473b": {
     "model_module": "@jupyter-widgets/controls",
     "model_name": "HBoxModel",
     "state": {
      "_dom_classes": [],
      "_model_module": "@jupyter-widgets/controls",
      "_model_module_version": "1.5.0",
      "_model_name": "HBoxModel",
      "_view_count": null,
      "_view_module": "@jupyter-widgets/controls",
      "_view_module_version": "1.5.0",
      "_view_name": "HBoxView",
      "box_style": "",
      "children": [
       "IPY_MODEL_a810b6f9d8644836b950369a6b286e3b",
       "IPY_MODEL_30463987ebdd487185651d5a9e513128"
      ],
      "layout": "IPY_MODEL_915c28ae638c4fbdb38ac4884a160185"
     }
    },
    "c22a38f24c6c4a8eb7da40d0d353dd5b": {
     "model_module": "@jupyter-widgets/controls",
     "model_name": "DescriptionStyleModel",
     "state": {
      "_model_module": "@jupyter-widgets/controls",
      "_model_module_version": "1.5.0",
      "_model_name": "DescriptionStyleModel",
      "_view_count": null,
      "_view_module": "@jupyter-widgets/base",
      "_view_module_version": "1.2.0",
      "_view_name": "StyleView",
      "description_width": ""
     }
    },
    "c43ce2cb00c9409ebcec330420938217": {
     "model_module": "@jupyter-widgets/controls",
     "model_name": "HBoxModel",
     "state": {
      "_dom_classes": [],
      "_model_module": "@jupyter-widgets/controls",
      "_model_module_version": "1.5.0",
      "_model_name": "HBoxModel",
      "_view_count": null,
      "_view_module": "@jupyter-widgets/controls",
      "_view_module_version": "1.5.0",
      "_view_name": "HBoxView",
      "box_style": "",
      "children": [
       "IPY_MODEL_6e9a9406cf8e4ba3b5657ca5fff782ac",
       "IPY_MODEL_dc9fc80fdb6543e7a759cfcdc0e00e9f"
      ],
      "layout": "IPY_MODEL_e58cff2e4c1c42639701252ec5396b31"
     }
    },
    "c5ef278701394729a1b0b92aabb30bf8": {
     "model_module": "@jupyter-widgets/controls",
     "model_name": "DescriptionStyleModel",
     "state": {
      "_model_module": "@jupyter-widgets/controls",
      "_model_module_version": "1.5.0",
      "_model_name": "DescriptionStyleModel",
      "_view_count": null,
      "_view_module": "@jupyter-widgets/base",
      "_view_module_version": "1.2.0",
      "_view_name": "StyleView",
      "description_width": ""
     }
    },
    "cc34f15941304fd9ae967805a25870e2": {
     "model_module": "@jupyter-widgets/base",
     "model_name": "LayoutModel",
     "state": {
      "_model_module": "@jupyter-widgets/base",
      "_model_module_version": "1.2.0",
      "_model_name": "LayoutModel",
      "_view_count": null,
      "_view_module": "@jupyter-widgets/base",
      "_view_module_version": "1.2.0",
      "_view_name": "LayoutView",
      "align_content": null,
      "align_items": null,
      "align_self": null,
      "border": null,
      "bottom": null,
      "display": "inline-flex",
      "flex": null,
      "flex_flow": "row wrap",
      "grid_area": null,
      "grid_auto_columns": null,
      "grid_auto_flow": null,
      "grid_auto_rows": null,
      "grid_column": null,
      "grid_gap": null,
      "grid_row": null,
      "grid_template_areas": null,
      "grid_template_columns": null,
      "grid_template_rows": null,
      "height": null,
      "justify_content": null,
      "justify_items": null,
      "left": null,
      "margin": null,
      "max_height": null,
      "max_width": null,
      "min_height": null,
      "min_width": null,
      "object_fit": null,
      "object_position": null,
      "order": null,
      "overflow": null,
      "overflow_x": null,
      "overflow_y": null,
      "padding": null,
      "right": null,
      "top": null,
      "visibility": null,
      "width": "100%"
     }
    },
    "d3ca03e2f0ae42799cd67fc9a43d47ae": {
     "model_module": "@jupyter-widgets/controls",
     "model_name": "DescriptionStyleModel",
     "state": {
      "_model_module": "@jupyter-widgets/controls",
      "_model_module_version": "1.5.0",
      "_model_name": "DescriptionStyleModel",
      "_view_count": null,
      "_view_module": "@jupyter-widgets/base",
      "_view_module_version": "1.2.0",
      "_view_name": "StyleView",
      "description_width": ""
     }
    },
    "d71f11fcaff3408b8665f0c972a0f489": {
     "model_module": "@jupyter-widgets/base",
     "model_name": "LayoutModel",
     "state": {
      "_model_module": "@jupyter-widgets/base",
      "_model_module_version": "1.2.0",
      "_model_name": "LayoutModel",
      "_view_count": null,
      "_view_module": "@jupyter-widgets/base",
      "_view_module_version": "1.2.0",
      "_view_name": "LayoutView",
      "align_content": null,
      "align_items": null,
      "align_self": null,
      "border": null,
      "bottom": null,
      "display": null,
      "flex": "2",
      "flex_flow": null,
      "grid_area": null,
      "grid_auto_columns": null,
      "grid_auto_flow": null,
      "grid_auto_rows": null,
      "grid_column": null,
      "grid_gap": null,
      "grid_row": null,
      "grid_template_areas": null,
      "grid_template_columns": null,
      "grid_template_rows": null,
      "height": null,
      "justify_content": null,
      "justify_items": null,
      "left": null,
      "margin": null,
      "max_height": null,
      "max_width": null,
      "min_height": null,
      "min_width": null,
      "object_fit": null,
      "object_position": null,
      "order": null,
      "overflow": null,
      "overflow_x": null,
      "overflow_y": null,
      "padding": null,
      "right": null,
      "top": null,
      "visibility": null,
      "width": null
     }
    },
    "db1fc08cdff2470dafc2a580ab567248": {
     "model_module": "@jupyter-widgets/base",
     "model_name": "LayoutModel",
     "state": {
      "_model_module": "@jupyter-widgets/base",
      "_model_module_version": "1.2.0",
      "_model_name": "LayoutModel",
      "_view_count": null,
      "_view_module": "@jupyter-widgets/base",
      "_view_module_version": "1.2.0",
      "_view_name": "LayoutView",
      "align_content": null,
      "align_items": null,
      "align_self": null,
      "border": null,
      "bottom": null,
      "display": "inline-flex",
      "flex": null,
      "flex_flow": "row wrap",
      "grid_area": null,
      "grid_auto_columns": null,
      "grid_auto_flow": null,
      "grid_auto_rows": null,
      "grid_column": null,
      "grid_gap": null,
      "grid_row": null,
      "grid_template_areas": null,
      "grid_template_columns": null,
      "grid_template_rows": null,
      "height": null,
      "justify_content": null,
      "justify_items": null,
      "left": null,
      "margin": null,
      "max_height": null,
      "max_width": null,
      "min_height": null,
      "min_width": null,
      "object_fit": null,
      "object_position": null,
      "order": null,
      "overflow": null,
      "overflow_x": null,
      "overflow_y": null,
      "padding": null,
      "right": null,
      "top": null,
      "visibility": null,
      "width": "100%"
     }
    },
    "dc9fc80fdb6543e7a759cfcdc0e00e9f": {
     "model_module": "@jupyter-widgets/controls",
     "model_name": "HTMLModel",
     "state": {
      "_dom_classes": [],
      "_model_module": "@jupyter-widgets/controls",
      "_model_module_version": "1.5.0",
      "_model_name": "HTMLModel",
      "_view_count": null,
      "_view_module": "@jupyter-widgets/controls",
      "_view_module_version": "1.5.0",
      "_view_name": "HTMLView",
      "description": "",
      "description_tooltip": null,
      "layout": "IPY_MODEL_bae5823cc0b14517ac5b5bd7fcd1cc5e",
      "placeholder": "​",
      "style": "IPY_MODEL_fbaee165e2764671b05e3df43ae426f5",
      "value": " 1/1 [00:06&lt;00:00,  6.05s/it]"
     }
    },
    "de48527c13fe4b959eae9ce31caca633": {
     "model_module": "@jupyter-widgets/controls",
     "model_name": "FloatProgressModel",
     "state": {
      "_dom_classes": [],
      "_model_module": "@jupyter-widgets/controls",
      "_model_module_version": "1.5.0",
      "_model_name": "FloatProgressModel",
      "_view_count": null,
      "_view_module": "@jupyter-widgets/controls",
      "_view_module_version": "1.5.0",
      "_view_name": "ProgressView",
      "bar_style": "success",
      "description": "Epoch 1: 100%",
      "description_tooltip": null,
      "layout": "IPY_MODEL_1c05afbd962f41c7802e475bcb67b1cc",
      "max": 2,
      "min": 0,
      "orientation": "horizontal",
      "style": "IPY_MODEL_6cba1d955d844a42ace3252f1758876e",
      "value": 2
     }
    },
    "e39f057c5dd44ef2a33e60c85ea942f6": {
     "model_module": "@jupyter-widgets/base",
     "model_name": "LayoutModel",
     "state": {
      "_model_module": "@jupyter-widgets/base",
      "_model_module_version": "1.2.0",
      "_model_name": "LayoutModel",
      "_view_count": null,
      "_view_module": "@jupyter-widgets/base",
      "_view_module_version": "1.2.0",
      "_view_name": "LayoutView",
      "align_content": null,
      "align_items": null,
      "align_self": null,
      "border": null,
      "bottom": null,
      "display": null,
      "flex": null,
      "flex_flow": null,
      "grid_area": null,
      "grid_auto_columns": null,
      "grid_auto_flow": null,
      "grid_auto_rows": null,
      "grid_column": null,
      "grid_gap": null,
      "grid_row": null,
      "grid_template_areas": null,
      "grid_template_columns": null,
      "grid_template_rows": null,
      "height": null,
      "justify_content": null,
      "justify_items": null,
      "left": null,
      "margin": null,
      "max_height": null,
      "max_width": null,
      "min_height": null,
      "min_width": null,
      "object_fit": null,
      "object_position": null,
      "order": null,
      "overflow": null,
      "overflow_x": null,
      "overflow_y": null,
      "padding": null,
      "right": null,
      "top": null,
      "visibility": null,
      "width": null
     }
    },
    "e58cff2e4c1c42639701252ec5396b31": {
     "model_module": "@jupyter-widgets/base",
     "model_name": "LayoutModel",
     "state": {
      "_model_module": "@jupyter-widgets/base",
      "_model_module_version": "1.2.0",
      "_model_name": "LayoutModel",
      "_view_count": null,
      "_view_module": "@jupyter-widgets/base",
      "_view_module_version": "1.2.0",
      "_view_name": "LayoutView",
      "align_content": null,
      "align_items": null,
      "align_self": null,
      "border": null,
      "bottom": null,
      "display": "inline-flex",
      "flex": null,
      "flex_flow": "row wrap",
      "grid_area": null,
      "grid_auto_columns": null,
      "grid_auto_flow": null,
      "grid_auto_rows": null,
      "grid_column": null,
      "grid_gap": null,
      "grid_row": null,
      "grid_template_areas": null,
      "grid_template_columns": null,
      "grid_template_rows": null,
      "height": null,
      "justify_content": null,
      "justify_items": null,
      "left": null,
      "margin": null,
      "max_height": null,
      "max_width": null,
      "min_height": null,
      "min_width": null,
      "object_fit": null,
      "object_position": null,
      "order": null,
      "overflow": null,
      "overflow_x": null,
      "overflow_y": null,
      "padding": null,
      "right": null,
      "top": null,
      "visibility": null,
      "width": "100%"
     }
    },
    "e788c79484e14d418a308e9ba8621a47": {
     "model_module": "@jupyter-widgets/base",
     "model_name": "LayoutModel",
     "state": {
      "_model_module": "@jupyter-widgets/base",
      "_model_module_version": "1.2.0",
      "_model_name": "LayoutModel",
      "_view_count": null,
      "_view_module": "@jupyter-widgets/base",
      "_view_module_version": "1.2.0",
      "_view_name": "LayoutView",
      "align_content": null,
      "align_items": null,
      "align_self": null,
      "border": null,
      "bottom": null,
      "display": "inline-flex",
      "flex": null,
      "flex_flow": "row wrap",
      "grid_area": null,
      "grid_auto_columns": null,
      "grid_auto_flow": null,
      "grid_auto_rows": null,
      "grid_column": null,
      "grid_gap": null,
      "grid_row": null,
      "grid_template_areas": null,
      "grid_template_columns": null,
      "grid_template_rows": null,
      "height": null,
      "justify_content": null,
      "justify_items": null,
      "left": null,
      "margin": null,
      "max_height": null,
      "max_width": null,
      "min_height": null,
      "min_width": null,
      "object_fit": null,
      "object_position": null,
      "order": null,
      "overflow": null,
      "overflow_x": null,
      "overflow_y": null,
      "padding": null,
      "right": null,
      "top": null,
      "visibility": null,
      "width": "100%"
     }
    },
    "e8eed605897042a8951e80635704fcff": {
     "model_module": "@jupyter-widgets/controls",
     "model_name": "ProgressStyleModel",
     "state": {
      "_model_module": "@jupyter-widgets/controls",
      "_model_module_version": "1.5.0",
      "_model_name": "ProgressStyleModel",
      "_view_count": null,
      "_view_module": "@jupyter-widgets/base",
      "_view_module_version": "1.2.0",
      "_view_name": "StyleView",
      "bar_color": null,
      "description_width": "initial"
     }
    },
    "ef31455f32f34c08b6ae8739ea710acd": {
     "model_module": "@jupyter-widgets/controls",
     "model_name": "HTMLModel",
     "state": {
      "_dom_classes": [],
      "_model_module": "@jupyter-widgets/controls",
      "_model_module_version": "1.5.0",
      "_model_name": "HTMLModel",
      "_view_count": null,
      "_view_module": "@jupyter-widgets/controls",
      "_view_module_version": "1.5.0",
      "_view_name": "HTMLView",
      "description": "",
      "description_tooltip": null,
      "layout": "IPY_MODEL_05dda350689a4e0cba0dbdff036e907f",
      "placeholder": "​",
      "style": "IPY_MODEL_77194c6abd894500a39e4ecd6c7ff895",
      "value": " 1/1 [00:01&lt;00:00,  1.33s/it]"
     }
    },
    "f06ff041a2dd4fd1beb792eaef5b8640": {
     "model_module": "@jupyter-widgets/controls",
     "model_name": "HBoxModel",
     "state": {
      "_dom_classes": [],
      "_model_module": "@jupyter-widgets/controls",
      "_model_module_version": "1.5.0",
      "_model_name": "HBoxModel",
      "_view_count": null,
      "_view_module": "@jupyter-widgets/controls",
      "_view_module_version": "1.5.0",
      "_view_name": "HBoxView",
      "box_style": "",
      "children": [
       "IPY_MODEL_a5062bdd93524e5c8b34ffee36af1742",
       "IPY_MODEL_ef31455f32f34c08b6ae8739ea710acd"
      ],
      "layout": "IPY_MODEL_cc34f15941304fd9ae967805a25870e2"
     }
    },
    "f9b719c1a70746a99a2ab0f437c98a40": {
     "model_module": "@jupyter-widgets/base",
     "model_name": "LayoutModel",
     "state": {
      "_model_module": "@jupyter-widgets/base",
      "_model_module_version": "1.2.0",
      "_model_name": "LayoutModel",
      "_view_count": null,
      "_view_module": "@jupyter-widgets/base",
      "_view_module_version": "1.2.0",
      "_view_name": "LayoutView",
      "align_content": null,
      "align_items": null,
      "align_self": null,
      "border": null,
      "bottom": null,
      "display": null,
      "flex": "2",
      "flex_flow": null,
      "grid_area": null,
      "grid_auto_columns": null,
      "grid_auto_flow": null,
      "grid_auto_rows": null,
      "grid_column": null,
      "grid_gap": null,
      "grid_row": null,
      "grid_template_areas": null,
      "grid_template_columns": null,
      "grid_template_rows": null,
      "height": null,
      "justify_content": null,
      "justify_items": null,
      "left": null,
      "margin": null,
      "max_height": null,
      "max_width": null,
      "min_height": null,
      "min_width": null,
      "object_fit": null,
      "object_position": null,
      "order": null,
      "overflow": null,
      "overflow_x": null,
      "overflow_y": null,
      "padding": null,
      "right": null,
      "top": null,
      "visibility": null,
      "width": null
     }
    },
    "fbaee165e2764671b05e3df43ae426f5": {
     "model_module": "@jupyter-widgets/controls",
     "model_name": "DescriptionStyleModel",
     "state": {
      "_model_module": "@jupyter-widgets/controls",
      "_model_module_version": "1.5.0",
      "_model_name": "DescriptionStyleModel",
      "_view_count": null,
      "_view_module": "@jupyter-widgets/base",
      "_view_module_version": "1.2.0",
      "_view_name": "StyleView",
      "description_width": ""
     }
    },
    "fd50a16f1bca44149f3ad7b0994772b7": {
     "model_module": "@jupyter-widgets/controls",
     "model_name": "HBoxModel",
     "state": {
      "_dom_classes": [],
      "_model_module": "@jupyter-widgets/controls",
      "_model_module_version": "1.5.0",
      "_model_name": "HBoxModel",
      "_view_count": null,
      "_view_module": "@jupyter-widgets/controls",
      "_view_module_version": "1.5.0",
      "_view_name": "HBoxView",
      "box_style": "",
      "children": [
       "IPY_MODEL_a46d60b90cf04913b3f18f1533b4aca3",
       "IPY_MODEL_8f082f43bae647a8b854327ebd65a93e"
      ],
      "layout": "IPY_MODEL_db1fc08cdff2470dafc2a580ab567248"
     }
    }
   }
  }
 },
 "nbformat": 4,
 "nbformat_minor": 4
}
